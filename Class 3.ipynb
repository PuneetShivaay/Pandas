{
 "cells": [
  {
   "cell_type": "code",
   "execution_count": 1,
   "id": "4aba2e00",
   "metadata": {},
   "outputs": [],
   "source": [
    "import pandas as pd"
   ]
  },
  {
   "cell_type": "code",
   "execution_count": null,
   "id": "14a89c8c",
   "metadata": {},
   "outputs": [],
   "source": []
  },
  {
   "cell_type": "code",
   "execution_count": 2,
   "id": "7e495921",
   "metadata": {},
   "outputs": [],
   "source": [
    "series1 = pd.Series([10,20,30])"
   ]
  },
  {
   "cell_type": "code",
   "execution_count": 3,
   "id": "670e646b",
   "metadata": {},
   "outputs": [
    {
     "name": "stdout",
     "output_type": "stream",
     "text": [
      "0    10\n",
      "1    20\n",
      "2    30\n",
      "dtype: int64\n"
     ]
    }
   ],
   "source": [
    "print(series1)"
   ]
  },
  {
   "cell_type": "code",
   "execution_count": 4,
   "id": "1c205284",
   "metadata": {},
   "outputs": [],
   "source": [
    "series2 = pd.Series([\"Kavi\",\"Shyam\",\"Ravi\"], index = [3,5,1])"
   ]
  },
  {
   "cell_type": "code",
   "execution_count": 5,
   "id": "dc607811",
   "metadata": {},
   "outputs": [
    {
     "name": "stdout",
     "output_type": "stream",
     "text": [
      "3     Kavi\n",
      "5    Shyam\n",
      "1     Ravi\n",
      "dtype: object\n"
     ]
    }
   ],
   "source": [
    "print(series2)"
   ]
  },
  {
   "cell_type": "code",
   "execution_count": 6,
   "id": "8ef95848",
   "metadata": {},
   "outputs": [],
   "source": [
    "import numpy as np"
   ]
  },
  {
   "cell_type": "code",
   "execution_count": 7,
   "id": "051006e9",
   "metadata": {},
   "outputs": [],
   "source": [
    "array1 = np.array([1,2,3,4])"
   ]
  },
  {
   "cell_type": "code",
   "execution_count": 8,
   "id": "e24e0989",
   "metadata": {},
   "outputs": [
    {
     "name": "stdout",
     "output_type": "stream",
     "text": [
      "[1 2 3 4]\n"
     ]
    }
   ],
   "source": [
    "print(array1)"
   ]
  },
  {
   "cell_type": "code",
   "execution_count": 9,
   "id": "4ccd8377",
   "metadata": {},
   "outputs": [],
   "source": [
    "series3 = pd.Series(array1)"
   ]
  },
  {
   "cell_type": "code",
   "execution_count": 10,
   "id": "2f9c1784",
   "metadata": {},
   "outputs": [
    {
     "name": "stdout",
     "output_type": "stream",
     "text": [
      "0    1\n",
      "1    2\n",
      "2    3\n",
      "3    4\n",
      "dtype: int32\n"
     ]
    }
   ],
   "source": [
    "print(series3)"
   ]
  },
  {
   "cell_type": "code",
   "execution_count": 11,
   "id": "1fa002a3",
   "metadata": {},
   "outputs": [],
   "source": [
    "dict1 = {'India':'NewDelhi','Uk':'London','Japan':'Tokyo'}"
   ]
  },
  {
   "cell_type": "code",
   "execution_count": 12,
   "id": "7220cde1",
   "metadata": {},
   "outputs": [
    {
     "name": "stdout",
     "output_type": "stream",
     "text": [
      "{'India': 'NewDelhi', 'Uk': 'London', 'Japan': 'Tokyo'}\n"
     ]
    }
   ],
   "source": [
    "print(dict1)"
   ]
  },
  {
   "cell_type": "code",
   "execution_count": 13,
   "id": "de55fdc7",
   "metadata": {},
   "outputs": [],
   "source": [
    "series4 = pd.Series(dict1)"
   ]
  },
  {
   "cell_type": "code",
   "execution_count": 14,
   "id": "4e1f0083",
   "metadata": {},
   "outputs": [
    {
     "name": "stdout",
     "output_type": "stream",
     "text": [
      "India    NewDelhi\n",
      "Uk         London\n",
      "Japan       Tokyo\n",
      "dtype: object\n"
     ]
    }
   ],
   "source": [
    "print(series4)"
   ]
  },
  {
   "cell_type": "code",
   "execution_count": 15,
   "id": "54102a59",
   "metadata": {},
   "outputs": [
    {
     "name": "stdout",
     "output_type": "stream",
     "text": [
      "0    10\n",
      "1    20\n",
      "2    30\n",
      "dtype: int64\n"
     ]
    }
   ],
   "source": [
    "print(series1)"
   ]
  },
  {
   "cell_type": "code",
   "execution_count": 17,
   "id": "51273be6",
   "metadata": {},
   "outputs": [
    {
     "data": {
      "text/plain": [
       "20"
      ]
     },
     "execution_count": 17,
     "metadata": {},
     "output_type": "execute_result"
    }
   ],
   "source": [
    "series1[1]"
   ]
  },
  {
   "cell_type": "code",
   "execution_count": 19,
   "id": "12913dec",
   "metadata": {},
   "outputs": [
    {
     "data": {
      "text/plain": [
       "1    20\n",
       "2    30\n",
       "dtype: int64"
      ]
     },
     "execution_count": 19,
     "metadata": {},
     "output_type": "execute_result"
    }
   ],
   "source": [
    "series1[[1,2]]"
   ]
  },
  {
   "cell_type": "code",
   "execution_count": null,
   "id": "908a9c0e",
   "metadata": {},
   "outputs": [],
   "source": [
    "#Creation of Series"
   ]
  },
  {
   "cell_type": "code",
   "execution_count": 20,
   "id": "ed9eb6ab",
   "metadata": {},
   "outputs": [],
   "source": [
    "#Accessing\n",
    "#1 indexing"
   ]
  },
  {
   "cell_type": "code",
   "execution_count": null,
   "id": "1b399a54",
   "metadata": {},
   "outputs": [],
   "source": [
    "#Slicing"
   ]
  },
  {
   "cell_type": "code",
   "execution_count": 1,
   "id": "ec8924e5",
   "metadata": {},
   "outputs": [],
   "source": [
    "import pandas as pd"
   ]
  },
  {
   "cell_type": "code",
   "execution_count": 2,
   "id": "0ee1a923",
   "metadata": {},
   "outputs": [],
   "source": [
    "import numpy as np"
   ]
  },
  {
   "cell_type": "code",
   "execution_count": 3,
   "id": "0719aa92",
   "metadata": {},
   "outputs": [],
   "source": [
    "series5 = pd.Series(['Raj','Hari Om','Aman','Nitish'],index = ['st1','st2','st3','st4'])"
   ]
  },
  {
   "cell_type": "code",
   "execution_count": 4,
   "id": "80071fb3",
   "metadata": {},
   "outputs": [
    {
     "name": "stdout",
     "output_type": "stream",
     "text": [
      "st1        Raj\n",
      "st2    Hari Om\n",
      "st3       Aman\n",
      "st4     Nitish\n",
      "dtype: object\n"
     ]
    }
   ],
   "source": [
    "print(series5)"
   ]
  },
  {
   "cell_type": "code",
   "execution_count": 5,
   "id": "d53c6158",
   "metadata": {},
   "outputs": [
    {
     "data": {
      "text/plain": [
       "st1        Raj\n",
       "st2    Hari Om\n",
       "dtype: object"
      ]
     },
     "execution_count": 5,
     "metadata": {},
     "output_type": "execute_result"
    }
   ],
   "source": [
    "series5[0:2]"
   ]
  },
  {
   "cell_type": "code",
   "execution_count": 6,
   "id": "efffbf7b",
   "metadata": {},
   "outputs": [
    {
     "data": {
      "text/plain": [
       "'Nitish'"
      ]
     },
     "execution_count": 6,
     "metadata": {},
     "output_type": "execute_result"
    }
   ],
   "source": [
    "series5[-1]"
   ]
  },
  {
   "cell_type": "code",
   "execution_count": 7,
   "id": "843dd138",
   "metadata": {},
   "outputs": [
    {
     "data": {
      "text/plain": [
       "st4     Nitish\n",
       "st3       Aman\n",
       "st2    Hari Om\n",
       "st1        Raj\n",
       "dtype: object"
      ]
     },
     "execution_count": 7,
     "metadata": {},
     "output_type": "execute_result"
    }
   ],
   "source": [
    "series5[: : -1]"
   ]
  },
  {
   "cell_type": "code",
   "execution_count": 9,
   "id": "42ae4ae4",
   "metadata": {},
   "outputs": [],
   "source": [
    "seriesnp = pd.Series(np.arange(10,16,1),index = ['a','b','c','d','e','f'])"
   ]
  },
  {
   "cell_type": "code",
   "execution_count": 10,
   "id": "64132e6c",
   "metadata": {
    "scrolled": true
   },
   "outputs": [
    {
     "name": "stdout",
     "output_type": "stream",
     "text": [
      "a    10\n",
      "b    11\n",
      "c    12\n",
      "d    13\n",
      "e    14\n",
      "f    15\n",
      "dtype: int32\n"
     ]
    }
   ],
   "source": [
    "print(seriesnp)"
   ]
  },
  {
   "cell_type": "code",
   "execution_count": null,
   "id": "629615a3",
   "metadata": {},
   "outputs": [],
   "source": [
    "Hari Om\n",
    "Raj Dubey\n",
    "Aman Tiwari\n",
    "Nitish Kumar"
   ]
  },
  {
   "cell_type": "code",
   "execution_count": 12,
   "id": "8004c394",
   "metadata": {},
   "outputs": [],
   "source": [
    "seriesname = pd.Series(['Om','Dubey','Tiwari','Kumar'],index=['Hari','Raj','Aman','Nitish'])"
   ]
  },
  {
   "cell_type": "code",
   "execution_count": 13,
   "id": "0ab63f88",
   "metadata": {},
   "outputs": [
    {
     "name": "stdout",
     "output_type": "stream",
     "text": [
      "Hari          Om\n",
      "Raj        Dubey\n",
      "Aman      Tiwari\n",
      "Nitish     Kumar\n",
      "dtype: object\n"
     ]
    }
   ],
   "source": [
    "print(seriesname)"
   ]
  },
  {
   "cell_type": "code",
   "execution_count": 15,
   "id": "388d0a3c",
   "metadata": {},
   "outputs": [],
   "source": [
    "seriesname = pd.Series(['Om','Dubey','Tiwari','Kumar'],['Hari','Raj','Aman','Nitish'])"
   ]
  },
  {
   "cell_type": "code",
   "execution_count": 16,
   "id": "8799ff5f",
   "metadata": {},
   "outputs": [
    {
     "name": "stdout",
     "output_type": "stream",
     "text": [
      "Hari          Om\n",
      "Raj        Dubey\n",
      "Aman      Tiwari\n",
      "Nitish     Kumar\n",
      "dtype: object\n"
     ]
    }
   ],
   "source": [
    "print(seriesname)"
   ]
  },
  {
   "cell_type": "code",
   "execution_count": 17,
   "id": "afccca78",
   "metadata": {},
   "outputs": [],
   "source": [
    "seriesname[0] = 'Dev'"
   ]
  },
  {
   "cell_type": "code",
   "execution_count": 18,
   "id": "03a2c571",
   "metadata": {},
   "outputs": [
    {
     "name": "stdout",
     "output_type": "stream",
     "text": [
      "Hari         Dev\n",
      "Raj        Dubey\n",
      "Aman      Tiwari\n",
      "Nitish     Kumar\n",
      "dtype: object\n"
     ]
    }
   ],
   "source": [
    "print(seriesname)"
   ]
  },
  {
   "cell_type": "code",
   "execution_count": 19,
   "id": "f27a477f",
   "metadata": {},
   "outputs": [],
   "source": [
    "seriesname['Aman'] = 'Dev'"
   ]
  },
  {
   "cell_type": "code",
   "execution_count": 20,
   "id": "aa22d617",
   "metadata": {},
   "outputs": [
    {
     "name": "stdout",
     "output_type": "stream",
     "text": [
      "Hari        Dev\n",
      "Raj       Dubey\n",
      "Aman        Dev\n",
      "Nitish    Kumar\n",
      "dtype: object\n"
     ]
    }
   ],
   "source": [
    "print(seriesname)"
   ]
  },
  {
   "cell_type": "code",
   "execution_count": 21,
   "id": "c82722ba",
   "metadata": {},
   "outputs": [],
   "source": [
    "#2.2.3 Attributes of Series\n"
   ]
  },
  {
   "cell_type": "code",
   "execution_count": 22,
   "id": "36145515",
   "metadata": {},
   "outputs": [
    {
     "name": "stdout",
     "output_type": "stream",
     "text": [
      "['Dev' 'Dubey' 'Dev' 'Kumar']\n"
     ]
    }
   ],
   "source": [
    "print(seriesname.values)"
   ]
  },
  {
   "cell_type": "code",
   "execution_count": 23,
   "id": "67ba89f3",
   "metadata": {},
   "outputs": [
    {
     "name": "stdout",
     "output_type": "stream",
     "text": [
      "4\n"
     ]
    }
   ],
   "source": [
    "print(seriesname.size)"
   ]
  },
  {
   "cell_type": "code",
   "execution_count": 24,
   "id": "1ca70915",
   "metadata": {},
   "outputs": [],
   "source": [
    "#.2.4 Methods of Series"
   ]
  },
  {
   "cell_type": "code",
   "execution_count": 25,
   "id": "69334eca",
   "metadata": {},
   "outputs": [],
   "source": [
    "#home work 1 check table commands\n",
    "#home work 2 Perform activity 2.3"
   ]
  },
  {
   "cell_type": "code",
   "execution_count": 26,
   "id": "984cb98f",
   "metadata": {},
   "outputs": [],
   "source": [
    "s = pd.Series(np.arange(10, 20, 1))"
   ]
  },
  {
   "cell_type": "code",
   "execution_count": 27,
   "id": "8bd8df52",
   "metadata": {},
   "outputs": [
    {
     "data": {
      "text/plain": [
       "0    10\n",
       "1    11\n",
       "2    12\n",
       "3    13\n",
       "4    14\n",
       "5    15\n",
       "6    16\n",
       "7    17\n",
       "8    18\n",
       "9    19\n",
       "dtype: int32"
      ]
     },
     "execution_count": 27,
     "metadata": {},
     "output_type": "execute_result"
    }
   ],
   "source": [
    "s"
   ]
  },
  {
   "cell_type": "code",
   "execution_count": 30,
   "id": "4afc68d7",
   "metadata": {},
   "outputs": [],
   "source": [
    "s = pd.Series(np.arange(10, 20, 1))"
   ]
  },
  {
   "cell_type": "code",
   "execution_count": 31,
   "id": "908ff86a",
   "metadata": {},
   "outputs": [
    {
     "data": {
      "text/plain": [
       "0    10\n",
       "1    11\n",
       "2    12\n",
       "3    13\n",
       "4    14\n",
       "5    15\n",
       "6    16\n",
       "7    17\n",
       "8    18\n",
       "9    19\n",
       "dtype: int32"
      ]
     },
     "execution_count": 31,
     "metadata": {},
     "output_type": "execute_result"
    }
   ],
   "source": [
    "s"
   ]
  },
  {
   "cell_type": "code",
   "execution_count": 33,
   "id": "40ae5ce0",
   "metadata": {},
   "outputs": [
    {
     "data": {
      "text/plain": [
       "0    10\n",
       "1    11\n",
       "dtype: int32"
      ]
     },
     "execution_count": 33,
     "metadata": {},
     "output_type": "execute_result"
    }
   ],
   "source": [
    "s.head(2)"
   ]
  },
  {
   "cell_type": "code",
   "execution_count": 34,
   "id": "c9a657b8",
   "metadata": {},
   "outputs": [
    {
     "data": {
      "text/plain": [
       "8    18\n",
       "9    19\n",
       "dtype: int32"
      ]
     },
     "execution_count": 34,
     "metadata": {},
     "output_type": "execute_result"
    }
   ],
   "source": [
    "s.tail(2)"
   ]
  },
  {
   "cell_type": "code",
   "execution_count": 35,
   "id": "200e9679",
   "metadata": {},
   "outputs": [
    {
     "data": {
      "text/plain": [
       "10"
      ]
     },
     "execution_count": 35,
     "metadata": {},
     "output_type": "execute_result"
    }
   ],
   "source": [
    "s.count()"
   ]
  },
  {
   "cell_type": "code",
   "execution_count": 36,
   "id": "1d507248",
   "metadata": {},
   "outputs": [],
   "source": [
    "seriesA = pd.Series([1,2,3,4,5], index = ['a', 'b', 'c', 'd', 'e'])"
   ]
  },
  {
   "cell_type": "code",
   "execution_count": 37,
   "id": "35eaef6d",
   "metadata": {},
   "outputs": [],
   "source": [
    "seriesB = pd.Series([10,20,-10,-50,100], \n",
    "index = ['z', 'y', 'a', 'c', 'e'])"
   ]
  },
  {
   "cell_type": "code",
   "execution_count": 38,
   "id": "3a70c8f7",
   "metadata": {},
   "outputs": [
    {
     "data": {
      "text/plain": [
       "a    1\n",
       "b    2\n",
       "c    3\n",
       "d    4\n",
       "e    5\n",
       "dtype: int64"
      ]
     },
     "execution_count": 38,
     "metadata": {},
     "output_type": "execute_result"
    }
   ],
   "source": [
    "seriesA"
   ]
  },
  {
   "cell_type": "code",
   "execution_count": 39,
   "id": "cd21a9ad",
   "metadata": {},
   "outputs": [
    {
     "data": {
      "text/plain": [
       "z     10\n",
       "y     20\n",
       "a    -10\n",
       "c    -50\n",
       "e    100\n",
       "dtype: int64"
      ]
     },
     "execution_count": 39,
     "metadata": {},
     "output_type": "execute_result"
    }
   ],
   "source": [
    "seriesB"
   ]
  },
  {
   "cell_type": "code",
   "execution_count": 40,
   "id": "f20383fe",
   "metadata": {},
   "outputs": [
    {
     "data": {
      "text/plain": [
       "a     -9.0\n",
       "b      NaN\n",
       "c    -47.0\n",
       "d      NaN\n",
       "e    105.0\n",
       "y      NaN\n",
       "z      NaN\n",
       "dtype: float64"
      ]
     },
     "execution_count": 40,
     "metadata": {},
     "output_type": "execute_result"
    }
   ],
   "source": [
    "seriesA + seriesB"
   ]
  },
  {
   "cell_type": "code",
   "execution_count": 41,
   "id": "f874bcb3",
   "metadata": {},
   "outputs": [
    {
     "data": {
      "text/plain": [
       "a     -9.0\n",
       "b      2.0\n",
       "c    -47.0\n",
       "d      4.0\n",
       "e    105.0\n",
       "y     20.0\n",
       "z     10.0\n",
       "dtype: float64"
      ]
     },
     "execution_count": 41,
     "metadata": {},
     "output_type": "execute_result"
    }
   ],
   "source": [
    "seriesA.add(seriesB, fill_value=0)"
   ]
  },
  {
   "cell_type": "code",
   "execution_count": 42,
   "id": "8ef39109",
   "metadata": {},
   "outputs": [],
   "source": [
    "#B) Subtraction of two Series"
   ]
  },
  {
   "cell_type": "code",
   "execution_count": 3,
   "id": "e26d903a",
   "metadata": {},
   "outputs": [
    {
     "name": "stdout",
     "output_type": "stream",
     "text": [
      "0     5\n",
      "1    10\n",
      "2    15\n",
      "3    20\n",
      "4    25\n",
      "5    30\n",
      "6    35\n",
      "7    40\n",
      "8    45\n",
      "9    50\n",
      "dtype: int64\n"
     ]
    }
   ],
   "source": [
    "#Ans 2 Scaler Values\n",
    "import pandas as pd\n",
    "\n",
    "s = pd.Series([5,10,15,20,25,30,35,40,45,50])\n",
    "\n",
    "print(s)"
   ]
  },
  {
   "cell_type": "code",
   "execution_count": 6,
   "id": "b07bb817",
   "metadata": {},
   "outputs": [
    {
     "name": "stdout",
     "output_type": "stream",
     "text": [
      "0     5\n",
      "1    10\n",
      "2    15\n",
      "3    20\n",
      "4    25\n",
      "5    30\n",
      "6    35\n",
      "7    40\n",
      "8    45\n",
      "9    50\n",
      "dtype: int32\n"
     ]
    }
   ],
   "source": [
    "#Ans 2 NumPy Array\n",
    "import pandas as pd\n",
    "import numpy as np\n",
    "\n",
    "s2 = pd.Series(np.arange(5,51,5))\n",
    "\n",
    "\n",
    "print(s2)"
   ]
  },
  {
   "cell_type": "code",
   "execution_count": 8,
   "id": "903d59b9",
   "metadata": {},
   "outputs": [],
   "source": [
    "#Ans 3\n",
    "mon = pd.Series(['jan','Feb','March','Apr','May','Jun','Jul','Aug','Sep','Oct','Nov','Dec'],index = [1,2,3,4,5,6,7,8,9,10,11,12])"
   ]
  },
  {
   "cell_type": "code",
   "execution_count": 9,
   "id": "805e03c0",
   "metadata": {},
   "outputs": [
    {
     "data": {
      "text/plain": [
       "1       jan\n",
       "2       Feb\n",
       "3     March\n",
       "4       Apr\n",
       "5       May\n",
       "6       Jun\n",
       "7       Jul\n",
       "8       Aug\n",
       "9       Sep\n",
       "10      Oct\n",
       "11      Nov\n",
       "12      Dec\n",
       "dtype: object"
      ]
     },
     "execution_count": 9,
     "metadata": {},
     "output_type": "execute_result"
    }
   ],
   "source": [
    "mon"
   ]
  },
  {
   "cell_type": "code",
   "execution_count": 14,
   "id": "151235aa",
   "metadata": {},
   "outputs": [],
   "source": [
    "#Ans 4\n",
    "mon2 = pd.Series([31,28,31,30,31,30,31,31,30,31,30,31], index = ['jan','Feb','March','Apr','May','Jun','Jul','Aug','Sep','Oct','Nov','Dec'])"
   ]
  },
  {
   "cell_type": "code",
   "execution_count": 13,
   "id": "3333a19f",
   "metadata": {},
   "outputs": [
    {
     "data": {
      "text/plain": [
       "jan      31\n",
       "Feb      28\n",
       "March    31\n",
       "Apr      30\n",
       "May      31\n",
       "Jun      30\n",
       "Jul      31\n",
       "Aug      31\n",
       "Sep      30\n",
       "Oct      31\n",
       "Nov      30\n",
       "Dec      31\n",
       "dtype: int64"
      ]
     },
     "execution_count": 13,
     "metadata": {},
     "output_type": "execute_result"
    }
   ],
   "source": [
    "mon2"
   ]
  },
  {
   "cell_type": "code",
   "execution_count": 15,
   "id": "2c74f553",
   "metadata": {},
   "outputs": [],
   "source": [
    "#Ans 5\n",
    "mon2.name = \"Months and Number of Days\""
   ]
  },
  {
   "cell_type": "code",
   "execution_count": 16,
   "id": "02fdbdbe",
   "metadata": {},
   "outputs": [
    {
     "data": {
      "text/plain": [
       "jan      31\n",
       "Feb      28\n",
       "March    31\n",
       "Apr      30\n",
       "May      31\n",
       "Jun      30\n",
       "Jul      31\n",
       "Aug      31\n",
       "Sep      30\n",
       "Oct      31\n",
       "Nov      30\n",
       "Dec      31\n",
       "Name: Months and Number of Days, dtype: int64"
      ]
     },
     "execution_count": 16,
     "metadata": {},
     "output_type": "execute_result"
    }
   ],
   "source": [
    "mon2"
   ]
  },
  {
   "cell_type": "code",
   "execution_count": 17,
   "id": "50f780cf",
   "metadata": {},
   "outputs": [],
   "source": [
    "# Addition of Series"
   ]
  },
  {
   "cell_type": "code",
   "execution_count": 18,
   "id": "9fe76ed5",
   "metadata": {},
   "outputs": [
    {
     "data": {
      "text/plain": [
       "7"
      ]
     },
     "execution_count": 18,
     "metadata": {},
     "output_type": "execute_result"
    }
   ],
   "source": [
    "3 +4 "
   ]
  },
  {
   "cell_type": "code",
   "execution_count": 19,
   "id": "d777ca35",
   "metadata": {},
   "outputs": [
    {
     "data": {
      "text/plain": [
       "10"
      ]
     },
     "execution_count": 19,
     "metadata": {},
     "output_type": "execute_result"
    }
   ],
   "source": [
    "2+8"
   ]
  },
  {
   "cell_type": "code",
   "execution_count": 26,
   "id": "00db0d88",
   "metadata": {},
   "outputs": [
    {
     "data": {
      "text/plain": [
       "2"
      ]
     },
     "execution_count": 26,
     "metadata": {},
     "output_type": "execute_result"
    }
   ],
   "source": [
    "2 + 0"
   ]
  },
  {
   "cell_type": "code",
   "execution_count": 21,
   "id": "febe70af",
   "metadata": {},
   "outputs": [],
   "source": [
    "series21 = pd.Series([10,30,50,90,300],index=[2,4,6,8,9])"
   ]
  },
  {
   "cell_type": "code",
   "execution_count": 22,
   "id": "03ae03c2",
   "metadata": {},
   "outputs": [
    {
     "data": {
      "text/plain": [
       "2     10\n",
       "4     30\n",
       "6     50\n",
       "8     90\n",
       "9    300\n",
       "dtype: int64"
      ]
     },
     "execution_count": 22,
     "metadata": {},
     "output_type": "execute_result"
    }
   ],
   "source": [
    "series21"
   ]
  },
  {
   "cell_type": "code",
   "execution_count": 23,
   "id": "a8ca521f",
   "metadata": {},
   "outputs": [],
   "source": [
    "series22 = pd.Series([100,350,500,900,100],index=[2,3,6,7,9])"
   ]
  },
  {
   "cell_type": "code",
   "execution_count": 24,
   "id": "4093dd36",
   "metadata": {},
   "outputs": [
    {
     "data": {
      "text/plain": [
       "2    100\n",
       "3    350\n",
       "6    500\n",
       "7    900\n",
       "9    100\n",
       "dtype: int64"
      ]
     },
     "execution_count": 24,
     "metadata": {},
     "output_type": "execute_result"
    }
   ],
   "source": [
    "series22"
   ]
  },
  {
   "cell_type": "code",
   "execution_count": 25,
   "id": "58261ab3",
   "metadata": {},
   "outputs": [
    {
     "data": {
      "text/plain": [
       "2    110.0\n",
       "3      NaN\n",
       "4      NaN\n",
       "6    550.0\n",
       "7      NaN\n",
       "8      NaN\n",
       "9    400.0\n",
       "dtype: float64"
      ]
     },
     "execution_count": 25,
     "metadata": {},
     "output_type": "execute_result"
    }
   ],
   "source": [
    "series21 + series22"
   ]
  },
  {
   "cell_type": "code",
   "execution_count": 27,
   "id": "b261ec38",
   "metadata": {},
   "outputs": [
    {
     "data": {
      "text/plain": [
       "2    110.0\n",
       "3      NaN\n",
       "4      NaN\n",
       "6    550.0\n",
       "7      NaN\n",
       "8      NaN\n",
       "9    400.0\n",
       "dtype: float64"
      ]
     },
     "execution_count": 27,
     "metadata": {},
     "output_type": "execute_result"
    }
   ],
   "source": [
    "series21.add(series22)"
   ]
  },
  {
   "cell_type": "code",
   "execution_count": 29,
   "id": "7387f0f2",
   "metadata": {},
   "outputs": [
    {
     "data": {
      "text/plain": [
       "2    110.0\n",
       "3    355.0\n",
       "4     35.0\n",
       "6    550.0\n",
       "7    905.0\n",
       "8     95.0\n",
       "9    400.0\n",
       "dtype: float64"
      ]
     },
     "execution_count": 29,
     "metadata": {},
     "output_type": "execute_result"
    }
   ],
   "source": [
    "series21.add(series22, fill_value=5)"
   ]
  },
  {
   "cell_type": "code",
   "execution_count": 30,
   "id": "73a2d93a",
   "metadata": {},
   "outputs": [
    {
     "data": {
      "text/plain": [
       "2    110.0\n",
       "3    400.0\n",
       "4     80.0\n",
       "6    550.0\n",
       "7    950.0\n",
       "8    140.0\n",
       "9    400.0\n",
       "dtype: float64"
      ]
     },
     "execution_count": 30,
     "metadata": {},
     "output_type": "execute_result"
    }
   ],
   "source": [
    "series21.add(series22, fill_value=50)"
   ]
  },
  {
   "cell_type": "code",
   "execution_count": 32,
   "id": "abc5906f",
   "metadata": {},
   "outputs": [
    {
     "data": {
      "text/plain": [
       "2    110.0\n",
       "3    400.0\n",
       "4     80.0\n",
       "6    550.0\n",
       "7    950.0\n",
       "8    140.0\n",
       "9    400.0\n",
       "dtype: float64"
      ]
     },
     "execution_count": 32,
     "metadata": {},
     "output_type": "execute_result"
    }
   ],
   "source": [
    "series22.add(series21, fill_value=50)"
   ]
  },
  {
   "cell_type": "code",
   "execution_count": 1,
   "id": "93fb17a2",
   "metadata": {},
   "outputs": [
    {
     "ename": "NameError",
     "evalue": "name 'series21' is not defined",
     "output_type": "error",
     "traceback": [
      "\u001b[1;31m---------------------------------------------------------------------------\u001b[0m",
      "\u001b[1;31mNameError\u001b[0m                                 Traceback (most recent call last)",
      "\u001b[1;32m<ipython-input-1-7647f7e55a1c>\u001b[0m in \u001b[0;36m<module>\u001b[1;34m\u001b[0m\n\u001b[1;32m----> 1\u001b[1;33m \u001b[0mseries21\u001b[0m \u001b[1;33m-\u001b[0m \u001b[0mseries22\u001b[0m\u001b[1;33m\u001b[0m\u001b[1;33m\u001b[0m\u001b[0m\n\u001b[0m",
      "\u001b[1;31mNameError\u001b[0m: name 'series21' is not defined"
     ]
    }
   ],
   "source": [
    "series21 - series22"
   ]
  },
  {
   "cell_type": "code",
   "execution_count": 33,
   "id": "584cb7bc",
   "metadata": {},
   "outputs": [
    {
     "data": {
      "text/plain": [
       "2     90.0\n",
       "3      NaN\n",
       "4      NaN\n",
       "6    450.0\n",
       "7      NaN\n",
       "8      NaN\n",
       "9   -200.0\n",
       "dtype: float64"
      ]
     },
     "execution_count": 33,
     "metadata": {},
     "output_type": "execute_result"
    }
   ],
   "source": [
    "series22 - series21"
   ]
  },
  {
   "cell_type": "code",
   "execution_count": 34,
   "id": "cacfc467",
   "metadata": {},
   "outputs": [
    {
     "data": {
      "text/plain": [
       "2    -90.0\n",
       "3   -300.0\n",
       "4    -20.0\n",
       "6   -450.0\n",
       "7   -850.0\n",
       "8     40.0\n",
       "9    200.0\n",
       "dtype: float64"
      ]
     },
     "execution_count": 34,
     "metadata": {},
     "output_type": "execute_result"
    }
   ],
   "source": [
    "series21.sub(series22, fill_value=50)"
   ]
  },
  {
   "cell_type": "code",
   "execution_count": 35,
   "id": "26192aae",
   "metadata": {},
   "outputs": [],
   "source": [
    "#DataFrame"
   ]
  },
  {
   "cell_type": "code",
   "execution_count": 3,
   "id": "3191ec56",
   "metadata": {},
   "outputs": [],
   "source": [
    "import pandas as pd"
   ]
  },
  {
   "cell_type": "code",
   "execution_count": 4,
   "id": "b78d9dfd",
   "metadata": {},
   "outputs": [],
   "source": [
    "series21 = pd.Series([10,30,50,90,300],index=[2,4,6,8,9])"
   ]
  },
  {
   "cell_type": "code",
   "execution_count": 5,
   "id": "21708065",
   "metadata": {},
   "outputs": [],
   "source": [
    "series22 = pd.Series([100,350,500,900,100],index=[2,3,6,7,9])"
   ]
  },
  {
   "cell_type": "code",
   "execution_count": 6,
   "id": "6975f3ea",
   "metadata": {},
   "outputs": [
    {
     "data": {
      "text/plain": [
       "2    10.000000\n",
       "3          NaN\n",
       "4          NaN\n",
       "6    10.000000\n",
       "7          NaN\n",
       "8          NaN\n",
       "9     0.333333\n",
       "dtype: float64"
      ]
     },
     "execution_count": 6,
     "metadata": {},
     "output_type": "execute_result"
    }
   ],
   "source": [
    "series22 / series21"
   ]
  },
  {
   "cell_type": "code",
   "execution_count": 6,
   "id": "a6f2d39d",
   "metadata": {},
   "outputs": [
    {
     "data": {
      "text/plain": [
       "2    0.100000\n",
       "3    0.142857\n",
       "4    0.600000\n",
       "6    0.100000\n",
       "7    0.055556\n",
       "8    1.800000\n",
       "9    3.000000\n",
       "dtype: float64"
      ]
     },
     "execution_count": 6,
     "metadata": {},
     "output_type": "execute_result"
    }
   ],
   "source": [
    "series21.div(series22, fill_value=50)"
   ]
  },
  {
   "cell_type": "code",
   "execution_count": 7,
   "id": "0606e441",
   "metadata": {},
   "outputs": [],
   "source": [
    "# Series completed"
   ]
  },
  {
   "cell_type": "code",
   "execution_count": 8,
   "id": "8775019f",
   "metadata": {},
   "outputs": [],
   "source": [
    "#DATA FRAME"
   ]
  },
  {
   "cell_type": "code",
   "execution_count": 9,
   "id": "a67e577b",
   "metadata": {},
   "outputs": [],
   "source": [
    "#2.3.1 Creation of DataFrame\n"
   ]
  },
  {
   "cell_type": "code",
   "execution_count": 10,
   "id": "f5aa7ce3",
   "metadata": {},
   "outputs": [],
   "source": [
    "empd = pd.DataFrame()"
   ]
  },
  {
   "cell_type": "code",
   "execution_count": 12,
   "id": "35a0c4c2",
   "metadata": {},
   "outputs": [
    {
     "name": "stdout",
     "output_type": "stream",
     "text": [
      "Empty DataFrame\n",
      "Columns: []\n",
      "Index: []\n"
     ]
    }
   ],
   "source": [
    "print(empd)"
   ]
  },
  {
   "cell_type": "code",
   "execution_count": 13,
   "id": "c862e508",
   "metadata": {},
   "outputs": [],
   "source": [
    "#(B) Creation of DataFrame from NumPy ndarrays"
   ]
  },
  {
   "cell_type": "code",
   "execution_count": 14,
   "id": "ad35b248",
   "metadata": {},
   "outputs": [],
   "source": [
    "import numpy as np"
   ]
  },
  {
   "cell_type": "code",
   "execution_count": 15,
   "id": "3e60f7bc",
   "metadata": {},
   "outputs": [],
   "source": [
    "array1 = np.array([10,20,30])\n",
    "array2 = np.array([100,200,300])\n",
    "array3 = np.array([-10,-20,-30, -40])"
   ]
  },
  {
   "cell_type": "code",
   "execution_count": 17,
   "id": "2ea3e116",
   "metadata": {},
   "outputs": [
    {
     "data": {
      "text/plain": [
       "0    10\n",
       "1    20\n",
       "2    30\n",
       "dtype: int32"
      ]
     },
     "execution_count": 17,
     "metadata": {},
     "output_type": "execute_result"
    }
   ],
   "source": [
    "series11 = pd.Series(array1)\n",
    "series11"
   ]
  },
  {
   "cell_type": "code",
   "execution_count": 18,
   "id": "096a2e92",
   "metadata": {},
   "outputs": [
    {
     "data": {
      "text/html": [
       "<div>\n",
       "<style scoped>\n",
       "    .dataframe tbody tr th:only-of-type {\n",
       "        vertical-align: middle;\n",
       "    }\n",
       "\n",
       "    .dataframe tbody tr th {\n",
       "        vertical-align: top;\n",
       "    }\n",
       "\n",
       "    .dataframe thead th {\n",
       "        text-align: right;\n",
       "    }\n",
       "</style>\n",
       "<table border=\"1\" class=\"dataframe\">\n",
       "  <thead>\n",
       "    <tr style=\"text-align: right;\">\n",
       "      <th></th>\n",
       "      <th>0</th>\n",
       "    </tr>\n",
       "  </thead>\n",
       "  <tbody>\n",
       "    <tr>\n",
       "      <th>0</th>\n",
       "      <td>10</td>\n",
       "    </tr>\n",
       "    <tr>\n",
       "      <th>1</th>\n",
       "      <td>20</td>\n",
       "    </tr>\n",
       "    <tr>\n",
       "      <th>2</th>\n",
       "      <td>30</td>\n",
       "    </tr>\n",
       "  </tbody>\n",
       "</table>\n",
       "</div>"
      ],
      "text/plain": [
       "    0\n",
       "0  10\n",
       "1  20\n",
       "2  30"
      ]
     },
     "execution_count": 18,
     "metadata": {},
     "output_type": "execute_result"
    }
   ],
   "source": [
    "dframe1 = pd.DataFrame(array1)\n",
    "dframe1"
   ]
  },
  {
   "cell_type": "code",
   "execution_count": 22,
   "id": "c1ee4859",
   "metadata": {},
   "outputs": [
    {
     "data": {
      "text/html": [
       "<div>\n",
       "<style scoped>\n",
       "    .dataframe tbody tr th:only-of-type {\n",
       "        vertical-align: middle;\n",
       "    }\n",
       "\n",
       "    .dataframe tbody tr th {\n",
       "        vertical-align: top;\n",
       "    }\n",
       "\n",
       "    .dataframe thead th {\n",
       "        text-align: right;\n",
       "    }\n",
       "</style>\n",
       "<table border=\"1\" class=\"dataframe\">\n",
       "  <thead>\n",
       "    <tr style=\"text-align: right;\">\n",
       "      <th></th>\n",
       "      <th>A</th>\n",
       "      <th>B</th>\n",
       "      <th>C</th>\n",
       "      <th>D</th>\n",
       "    </tr>\n",
       "  </thead>\n",
       "  <tbody>\n",
       "    <tr>\n",
       "      <th>0</th>\n",
       "      <td>10</td>\n",
       "      <td>20</td>\n",
       "      <td>30</td>\n",
       "      <td>NaN</td>\n",
       "    </tr>\n",
       "    <tr>\n",
       "      <th>1</th>\n",
       "      <td>-10</td>\n",
       "      <td>-20</td>\n",
       "      <td>-30</td>\n",
       "      <td>-40.0</td>\n",
       "    </tr>\n",
       "    <tr>\n",
       "      <th>2</th>\n",
       "      <td>100</td>\n",
       "      <td>200</td>\n",
       "      <td>300</td>\n",
       "      <td>NaN</td>\n",
       "    </tr>\n",
       "  </tbody>\n",
       "</table>\n",
       "</div>"
      ],
      "text/plain": [
       "     A    B    C     D\n",
       "0   10   20   30   NaN\n",
       "1  -10  -20  -30 -40.0\n",
       "2  100  200  300   NaN"
      ]
     },
     "execution_count": 22,
     "metadata": {},
     "output_type": "execute_result"
    }
   ],
   "source": [
    "dFrame2 = pd.DataFrame([array1, array3, \n",
    "array2], columns=[ 'A', 'B', 'C', 'D'])\n",
    "dFrame2"
   ]
  },
  {
   "cell_type": "code",
   "execution_count": 23,
   "id": "dc1482aa",
   "metadata": {},
   "outputs": [],
   "source": [
    "#(C) Creation of DataFrame from List of Dictionaries"
   ]
  },
  {
   "cell_type": "code",
   "execution_count": 24,
   "id": "aaddeabe",
   "metadata": {},
   "outputs": [],
   "source": [
    "dict = [{'a':10, 'b':20}, {'a':5,'b':10, 'c':20}]"
   ]
  },
  {
   "cell_type": "code",
   "execution_count": 25,
   "id": "16b5b204",
   "metadata": {},
   "outputs": [
    {
     "data": {
      "text/plain": [
       "[{'a': 10, 'b': 20}, {'a': 5, 'b': 10, 'c': 20}]"
      ]
     },
     "execution_count": 25,
     "metadata": {},
     "output_type": "execute_result"
    }
   ],
   "source": [
    "dict"
   ]
  },
  {
   "cell_type": "code",
   "execution_count": 26,
   "id": "19c81a8d",
   "metadata": {},
   "outputs": [],
   "source": [
    "dfl = pd.DataFrame(dict)"
   ]
  },
  {
   "cell_type": "code",
   "execution_count": 28,
   "id": "1910b69a",
   "metadata": {},
   "outputs": [
    {
     "data": {
      "text/html": [
       "<div>\n",
       "<style scoped>\n",
       "    .dataframe tbody tr th:only-of-type {\n",
       "        vertical-align: middle;\n",
       "    }\n",
       "\n",
       "    .dataframe tbody tr th {\n",
       "        vertical-align: top;\n",
       "    }\n",
       "\n",
       "    .dataframe thead th {\n",
       "        text-align: right;\n",
       "    }\n",
       "</style>\n",
       "<table border=\"1\" class=\"dataframe\">\n",
       "  <thead>\n",
       "    <tr style=\"text-align: right;\">\n",
       "      <th></th>\n",
       "      <th>a</th>\n",
       "      <th>b</th>\n",
       "      <th>c</th>\n",
       "    </tr>\n",
       "  </thead>\n",
       "  <tbody>\n",
       "    <tr>\n",
       "      <th>0</th>\n",
       "      <td>10</td>\n",
       "      <td>20</td>\n",
       "      <td>NaN</td>\n",
       "    </tr>\n",
       "    <tr>\n",
       "      <th>1</th>\n",
       "      <td>5</td>\n",
       "      <td>10</td>\n",
       "      <td>20.0</td>\n",
       "    </tr>\n",
       "  </tbody>\n",
       "</table>\n",
       "</div>"
      ],
      "text/plain": [
       "    a   b     c\n",
       "0  10  20   NaN\n",
       "1   5  10  20.0"
      ]
     },
     "execution_count": 28,
     "metadata": {},
     "output_type": "execute_result"
    }
   ],
   "source": [
    "dfl"
   ]
  },
  {
   "cell_type": "code",
   "execution_count": 29,
   "id": "4adc131c",
   "metadata": {},
   "outputs": [],
   "source": [
    "#(D) Creation of DataFrame from Dictionary of Lists"
   ]
  },
  {
   "cell_type": "code",
   "execution_count": 30,
   "id": "8281a969",
   "metadata": {},
   "outputs": [],
   "source": [
    "dictForest = {\n",
    "    'State': ['Assam', 'Delhi', \n",
    "'Kerala'],\n",
    "    'GArea': [78438, 1483, 38852] ,\n",
    "              'VDF' : [2797, 6.72,1663]}"
   ]
  },
  {
   "cell_type": "code",
   "execution_count": 31,
   "id": "4b61a3bc",
   "metadata": {},
   "outputs": [
    {
     "data": {
      "text/plain": [
       "{'State': ['Assam', 'Delhi', 'Kerala'],\n",
       " 'GArea': [78438, 1483, 38852],\n",
       " 'VDF': [2797, 6.72, 1663]}"
      ]
     },
     "execution_count": 31,
     "metadata": {},
     "output_type": "execute_result"
    }
   ],
   "source": [
    "dictForest"
   ]
  },
  {
   "cell_type": "code",
   "execution_count": 32,
   "id": "1147de49",
   "metadata": {},
   "outputs": [],
   "source": [
    "dfdl = pd.DataFrame(dictForest)"
   ]
  },
  {
   "cell_type": "code",
   "execution_count": 33,
   "id": "07ab7606",
   "metadata": {},
   "outputs": [
    {
     "data": {
      "text/html": [
       "<div>\n",
       "<style scoped>\n",
       "    .dataframe tbody tr th:only-of-type {\n",
       "        vertical-align: middle;\n",
       "    }\n",
       "\n",
       "    .dataframe tbody tr th {\n",
       "        vertical-align: top;\n",
       "    }\n",
       "\n",
       "    .dataframe thead th {\n",
       "        text-align: right;\n",
       "    }\n",
       "</style>\n",
       "<table border=\"1\" class=\"dataframe\">\n",
       "  <thead>\n",
       "    <tr style=\"text-align: right;\">\n",
       "      <th></th>\n",
       "      <th>State</th>\n",
       "      <th>GArea</th>\n",
       "      <th>VDF</th>\n",
       "    </tr>\n",
       "  </thead>\n",
       "  <tbody>\n",
       "    <tr>\n",
       "      <th>0</th>\n",
       "      <td>Assam</td>\n",
       "      <td>78438</td>\n",
       "      <td>2797.00</td>\n",
       "    </tr>\n",
       "    <tr>\n",
       "      <th>1</th>\n",
       "      <td>Delhi</td>\n",
       "      <td>1483</td>\n",
       "      <td>6.72</td>\n",
       "    </tr>\n",
       "    <tr>\n",
       "      <th>2</th>\n",
       "      <td>Kerala</td>\n",
       "      <td>38852</td>\n",
       "      <td>1663.00</td>\n",
       "    </tr>\n",
       "  </tbody>\n",
       "</table>\n",
       "</div>"
      ],
      "text/plain": [
       "    State  GArea      VDF\n",
       "0   Assam  78438  2797.00\n",
       "1   Delhi   1483     6.72\n",
       "2  Kerala  38852  1663.00"
      ]
     },
     "execution_count": 33,
     "metadata": {},
     "output_type": "execute_result"
    }
   ],
   "source": [
    "dfdl"
   ]
  },
  {
   "cell_type": "code",
   "execution_count": 34,
   "id": "f5c8ed86",
   "metadata": {},
   "outputs": [],
   "source": [
    "dfdl2 = pd.DataFrame(dictForest,columns = ['VDF','State','GArea'])"
   ]
  },
  {
   "cell_type": "code",
   "execution_count": 36,
   "id": "68517b13",
   "metadata": {},
   "outputs": [
    {
     "data": {
      "text/html": [
       "<div>\n",
       "<style scoped>\n",
       "    .dataframe tbody tr th:only-of-type {\n",
       "        vertical-align: middle;\n",
       "    }\n",
       "\n",
       "    .dataframe tbody tr th {\n",
       "        vertical-align: top;\n",
       "    }\n",
       "\n",
       "    .dataframe thead th {\n",
       "        text-align: right;\n",
       "    }\n",
       "</style>\n",
       "<table border=\"1\" class=\"dataframe\">\n",
       "  <thead>\n",
       "    <tr style=\"text-align: right;\">\n",
       "      <th></th>\n",
       "      <th>VDF</th>\n",
       "      <th>State</th>\n",
       "      <th>GArea</th>\n",
       "    </tr>\n",
       "  </thead>\n",
       "  <tbody>\n",
       "    <tr>\n",
       "      <th>0</th>\n",
       "      <td>2797.00</td>\n",
       "      <td>Assam</td>\n",
       "      <td>78438</td>\n",
       "    </tr>\n",
       "    <tr>\n",
       "      <th>1</th>\n",
       "      <td>6.72</td>\n",
       "      <td>Delhi</td>\n",
       "      <td>1483</td>\n",
       "    </tr>\n",
       "    <tr>\n",
       "      <th>2</th>\n",
       "      <td>1663.00</td>\n",
       "      <td>Kerala</td>\n",
       "      <td>38852</td>\n",
       "    </tr>\n",
       "  </tbody>\n",
       "</table>\n",
       "</div>"
      ],
      "text/plain": [
       "       VDF   State  GArea\n",
       "0  2797.00   Assam  78438\n",
       "1     6.72   Delhi   1483\n",
       "2  1663.00  Kerala  38852"
      ]
     },
     "execution_count": 36,
     "metadata": {},
     "output_type": "execute_result"
    }
   ],
   "source": [
    "dfdl2"
   ]
  },
  {
   "cell_type": "code",
   "execution_count": 37,
   "id": "eab0bfa8",
   "metadata": {},
   "outputs": [],
   "source": [
    "#(E) Creation of DataFrame from Series"
   ]
  },
  {
   "cell_type": "code",
   "execution_count": 38,
   "id": "fd47f361",
   "metadata": {},
   "outputs": [],
   "source": [
    "seriesA = pd.Series([1,2,3,4,5],\n",
    "index = ['a', 'b', 'c', 'd', 'e'])"
   ]
  },
  {
   "cell_type": "code",
   "execution_count": 39,
   "id": "d13fbe2e",
   "metadata": {},
   "outputs": [
    {
     "data": {
      "text/plain": [
       "a    1\n",
       "b    2\n",
       "c    3\n",
       "d    4\n",
       "e    5\n",
       "dtype: int64"
      ]
     },
     "execution_count": 39,
     "metadata": {},
     "output_type": "execute_result"
    }
   ],
   "source": [
    "seriesA"
   ]
  },
  {
   "cell_type": "code",
   "execution_count": 40,
   "id": "8ce54de7",
   "metadata": {},
   "outputs": [],
   "source": [
    "seriesB = pd.Series ([1000,2000,-1000,-5000,1000],\n",
    "index = ['a', 'b', 'c', 'd', 'e'])"
   ]
  },
  {
   "cell_type": "code",
   "execution_count": 41,
   "id": "aaaca0b7",
   "metadata": {},
   "outputs": [
    {
     "data": {
      "text/plain": [
       "a    1000\n",
       "b    2000\n",
       "c   -1000\n",
       "d   -5000\n",
       "e    1000\n",
       "dtype: int64"
      ]
     },
     "execution_count": 41,
     "metadata": {},
     "output_type": "execute_result"
    }
   ],
   "source": [
    "seriesB"
   ]
  },
  {
   "cell_type": "code",
   "execution_count": 42,
   "id": "0b4e687c",
   "metadata": {},
   "outputs": [],
   "source": [
    "seriesC = pd.Series([10,20,-10,-50,100],\n",
    "index = ['z', 'y', 'a', 'c', 'e'])"
   ]
  },
  {
   "cell_type": "code",
   "execution_count": 43,
   "id": "7352f62f",
   "metadata": {},
   "outputs": [
    {
     "data": {
      "text/plain": [
       "z     10\n",
       "y     20\n",
       "a    -10\n",
       "c    -50\n",
       "e    100\n",
       "dtype: int64"
      ]
     },
     "execution_count": 43,
     "metadata": {},
     "output_type": "execute_result"
    }
   ],
   "source": [
    "seriesC"
   ]
  },
  {
   "cell_type": "code",
   "execution_count": 44,
   "id": "163978d3",
   "metadata": {},
   "outputs": [],
   "source": [
    "dfseries = pd.DataFrame(seriesA)"
   ]
  },
  {
   "cell_type": "code",
   "execution_count": 46,
   "id": "a4e22844",
   "metadata": {},
   "outputs": [
    {
     "data": {
      "text/plain": [
       "a    1\n",
       "b    2\n",
       "c    3\n",
       "d    4\n",
       "e    5\n",
       "dtype: int64"
      ]
     },
     "execution_count": 46,
     "metadata": {},
     "output_type": "execute_result"
    }
   ],
   "source": [
    "seriesA"
   ]
  },
  {
   "cell_type": "code",
   "execution_count": 45,
   "id": "d80b022b",
   "metadata": {},
   "outputs": [
    {
     "data": {
      "text/html": [
       "<div>\n",
       "<style scoped>\n",
       "    .dataframe tbody tr th:only-of-type {\n",
       "        vertical-align: middle;\n",
       "    }\n",
       "\n",
       "    .dataframe tbody tr th {\n",
       "        vertical-align: top;\n",
       "    }\n",
       "\n",
       "    .dataframe thead th {\n",
       "        text-align: right;\n",
       "    }\n",
       "</style>\n",
       "<table border=\"1\" class=\"dataframe\">\n",
       "  <thead>\n",
       "    <tr style=\"text-align: right;\">\n",
       "      <th></th>\n",
       "      <th>0</th>\n",
       "    </tr>\n",
       "  </thead>\n",
       "  <tbody>\n",
       "    <tr>\n",
       "      <th>a</th>\n",
       "      <td>1</td>\n",
       "    </tr>\n",
       "    <tr>\n",
       "      <th>b</th>\n",
       "      <td>2</td>\n",
       "    </tr>\n",
       "    <tr>\n",
       "      <th>c</th>\n",
       "      <td>3</td>\n",
       "    </tr>\n",
       "    <tr>\n",
       "      <th>d</th>\n",
       "      <td>4</td>\n",
       "    </tr>\n",
       "    <tr>\n",
       "      <th>e</th>\n",
       "      <td>5</td>\n",
       "    </tr>\n",
       "  </tbody>\n",
       "</table>\n",
       "</div>"
      ],
      "text/plain": [
       "   0\n",
       "a  1\n",
       "b  2\n",
       "c  3\n",
       "d  4\n",
       "e  5"
      ]
     },
     "execution_count": 45,
     "metadata": {},
     "output_type": "execute_result"
    }
   ],
   "source": [
    "dfseries"
   ]
  },
  {
   "cell_type": "code",
   "execution_count": 49,
   "id": "4e249e6d",
   "metadata": {},
   "outputs": [],
   "source": [
    "dfseries = pd.DataFrame([seriesA,seriesB,seriesC])"
   ]
  },
  {
   "cell_type": "code",
   "execution_count": 50,
   "id": "8eb24d6c",
   "metadata": {},
   "outputs": [
    {
     "data": {
      "text/html": [
       "<div>\n",
       "<style scoped>\n",
       "    .dataframe tbody tr th:only-of-type {\n",
       "        vertical-align: middle;\n",
       "    }\n",
       "\n",
       "    .dataframe tbody tr th {\n",
       "        vertical-align: top;\n",
       "    }\n",
       "\n",
       "    .dataframe thead th {\n",
       "        text-align: right;\n",
       "    }\n",
       "</style>\n",
       "<table border=\"1\" class=\"dataframe\">\n",
       "  <thead>\n",
       "    <tr style=\"text-align: right;\">\n",
       "      <th></th>\n",
       "      <th>a</th>\n",
       "      <th>b</th>\n",
       "      <th>c</th>\n",
       "      <th>d</th>\n",
       "      <th>e</th>\n",
       "      <th>z</th>\n",
       "      <th>y</th>\n",
       "    </tr>\n",
       "  </thead>\n",
       "  <tbody>\n",
       "    <tr>\n",
       "      <th>0</th>\n",
       "      <td>1.0</td>\n",
       "      <td>2.0</td>\n",
       "      <td>3.0</td>\n",
       "      <td>4.0</td>\n",
       "      <td>5.0</td>\n",
       "      <td>NaN</td>\n",
       "      <td>NaN</td>\n",
       "    </tr>\n",
       "    <tr>\n",
       "      <th>1</th>\n",
       "      <td>1000.0</td>\n",
       "      <td>2000.0</td>\n",
       "      <td>-1000.0</td>\n",
       "      <td>-5000.0</td>\n",
       "      <td>1000.0</td>\n",
       "      <td>NaN</td>\n",
       "      <td>NaN</td>\n",
       "    </tr>\n",
       "    <tr>\n",
       "      <th>2</th>\n",
       "      <td>-10.0</td>\n",
       "      <td>NaN</td>\n",
       "      <td>-50.0</td>\n",
       "      <td>NaN</td>\n",
       "      <td>100.0</td>\n",
       "      <td>10.0</td>\n",
       "      <td>20.0</td>\n",
       "    </tr>\n",
       "  </tbody>\n",
       "</table>\n",
       "</div>"
      ],
      "text/plain": [
       "        a       b       c       d       e     z     y\n",
       "0     1.0     2.0     3.0     4.0     5.0   NaN   NaN\n",
       "1  1000.0  2000.0 -1000.0 -5000.0  1000.0   NaN   NaN\n",
       "2   -10.0     NaN   -50.0     NaN   100.0  10.0  20.0"
      ]
     },
     "execution_count": 50,
     "metadata": {},
     "output_type": "execute_result"
    }
   ],
   "source": [
    "dfseries"
   ]
  },
  {
   "cell_type": "code",
   "execution_count": 51,
   "id": "93905ceb",
   "metadata": {},
   "outputs": [],
   "source": [
    "# (F) Creation of DataFrame from Dictionary of Series"
   ]
  },
  {
   "cell_type": "code",
   "execution_count": 7,
   "id": "c33fed37",
   "metadata": {},
   "outputs": [],
   "source": [
    "ResultSheet={\n",
    "'Arnab': pd.Series([90, 91, 97],\n",
    "index=['Maths','Science','Hindi']),\n",
    "'Ramit': pd.Series([92, 81, 96],\n",
    "index=['Maths','Science','Hindi']),\n",
    "'Samridhi': pd.Series([89, 91, 88],\n",
    "index=['Maths','Science','Hindi']),\n",
    "'Riya': pd.Series([81, 71, 67],\n",
    "index=['Maths','Science','Hindi']),\n",
    "'Mallika': pd.Series([94, 95, 99],\n",
    "index=['Maths','Science','Hindi'])}"
   ]
  },
  {
   "cell_type": "code",
   "execution_count": 8,
   "id": "e0f6f42f",
   "metadata": {},
   "outputs": [
    {
     "data": {
      "text/plain": [
       "{'Arnab': Maths      90\n",
       " Science    91\n",
       " Hindi      97\n",
       " dtype: int64,\n",
       " 'Ramit': Maths      92\n",
       " Science    81\n",
       " Hindi      96\n",
       " dtype: int64,\n",
       " 'Samridhi': Maths      89\n",
       " Science    91\n",
       " Hindi      88\n",
       " dtype: int64,\n",
       " 'Riya': Maths      81\n",
       " Science    71\n",
       " Hindi      67\n",
       " dtype: int64,\n",
       " 'Mallika': Maths      94\n",
       " Science    95\n",
       " Hindi      99\n",
       " dtype: int64}"
      ]
     },
     "execution_count": 8,
     "metadata": {},
     "output_type": "execute_result"
    }
   ],
   "source": [
    "ResultSheet"
   ]
  },
  {
   "cell_type": "code",
   "execution_count": 9,
   "id": "0e5cad06",
   "metadata": {},
   "outputs": [],
   "source": [
    "ResultDF = pd.DataFrame(ResultSheet)"
   ]
  },
  {
   "cell_type": "code",
   "execution_count": 10,
   "id": "77709888",
   "metadata": {},
   "outputs": [
    {
     "data": {
      "text/html": [
       "<div>\n",
       "<style scoped>\n",
       "    .dataframe tbody tr th:only-of-type {\n",
       "        vertical-align: middle;\n",
       "    }\n",
       "\n",
       "    .dataframe tbody tr th {\n",
       "        vertical-align: top;\n",
       "    }\n",
       "\n",
       "    .dataframe thead th {\n",
       "        text-align: right;\n",
       "    }\n",
       "</style>\n",
       "<table border=\"1\" class=\"dataframe\">\n",
       "  <thead>\n",
       "    <tr style=\"text-align: right;\">\n",
       "      <th></th>\n",
       "      <th>Arnab</th>\n",
       "      <th>Ramit</th>\n",
       "      <th>Samridhi</th>\n",
       "      <th>Riya</th>\n",
       "      <th>Mallika</th>\n",
       "    </tr>\n",
       "  </thead>\n",
       "  <tbody>\n",
       "    <tr>\n",
       "      <th>Maths</th>\n",
       "      <td>90</td>\n",
       "      <td>92</td>\n",
       "      <td>89</td>\n",
       "      <td>81</td>\n",
       "      <td>94</td>\n",
       "    </tr>\n",
       "    <tr>\n",
       "      <th>Science</th>\n",
       "      <td>91</td>\n",
       "      <td>81</td>\n",
       "      <td>91</td>\n",
       "      <td>71</td>\n",
       "      <td>95</td>\n",
       "    </tr>\n",
       "    <tr>\n",
       "      <th>Hindi</th>\n",
       "      <td>97</td>\n",
       "      <td>96</td>\n",
       "      <td>88</td>\n",
       "      <td>67</td>\n",
       "      <td>99</td>\n",
       "    </tr>\n",
       "  </tbody>\n",
       "</table>\n",
       "</div>"
      ],
      "text/plain": [
       "         Arnab  Ramit  Samridhi  Riya  Mallika\n",
       "Maths       90     92        89    81       94\n",
       "Science     91     81        91    71       95\n",
       "Hindi       97     96        88    67       99"
      ]
     },
     "execution_count": 10,
     "metadata": {},
     "output_type": "execute_result"
    }
   ],
   "source": [
    "ResultDF"
   ]
  },
  {
   "cell_type": "code",
   "execution_count": 11,
   "id": "e70ef302",
   "metadata": {},
   "outputs": [],
   "source": [
    "#2.3.2 Operations on rows and columns in DataFrames"
   ]
  },
  {
   "cell_type": "code",
   "execution_count": 12,
   "id": "8ceb7cdc",
   "metadata": {},
   "outputs": [],
   "source": [
    "#(A) Adding a New Column to a DataFrame"
   ]
  },
  {
   "cell_type": "code",
   "execution_count": 13,
   "id": "404ea415",
   "metadata": {},
   "outputs": [],
   "source": [
    "ResultDF['Raj'] = [88,92,94]"
   ]
  },
  {
   "cell_type": "code",
   "execution_count": 14,
   "id": "56f146f5",
   "metadata": {},
   "outputs": [
    {
     "data": {
      "text/html": [
       "<div>\n",
       "<style scoped>\n",
       "    .dataframe tbody tr th:only-of-type {\n",
       "        vertical-align: middle;\n",
       "    }\n",
       "\n",
       "    .dataframe tbody tr th {\n",
       "        vertical-align: top;\n",
       "    }\n",
       "\n",
       "    .dataframe thead th {\n",
       "        text-align: right;\n",
       "    }\n",
       "</style>\n",
       "<table border=\"1\" class=\"dataframe\">\n",
       "  <thead>\n",
       "    <tr style=\"text-align: right;\">\n",
       "      <th></th>\n",
       "      <th>Arnab</th>\n",
       "      <th>Ramit</th>\n",
       "      <th>Samridhi</th>\n",
       "      <th>Riya</th>\n",
       "      <th>Mallika</th>\n",
       "      <th>Raj</th>\n",
       "    </tr>\n",
       "  </thead>\n",
       "  <tbody>\n",
       "    <tr>\n",
       "      <th>Maths</th>\n",
       "      <td>90</td>\n",
       "      <td>92</td>\n",
       "      <td>89</td>\n",
       "      <td>81</td>\n",
       "      <td>94</td>\n",
       "      <td>88</td>\n",
       "    </tr>\n",
       "    <tr>\n",
       "      <th>Science</th>\n",
       "      <td>91</td>\n",
       "      <td>81</td>\n",
       "      <td>91</td>\n",
       "      <td>71</td>\n",
       "      <td>95</td>\n",
       "      <td>92</td>\n",
       "    </tr>\n",
       "    <tr>\n",
       "      <th>Hindi</th>\n",
       "      <td>97</td>\n",
       "      <td>96</td>\n",
       "      <td>88</td>\n",
       "      <td>67</td>\n",
       "      <td>99</td>\n",
       "      <td>94</td>\n",
       "    </tr>\n",
       "  </tbody>\n",
       "</table>\n",
       "</div>"
      ],
      "text/plain": [
       "         Arnab  Ramit  Samridhi  Riya  Mallika  Raj\n",
       "Maths       90     92        89    81       94   88\n",
       "Science     91     81        91    71       95   92\n",
       "Hindi       97     96        88    67       99   94"
      ]
     },
     "execution_count": 14,
     "metadata": {},
     "output_type": "execute_result"
    }
   ],
   "source": [
    "ResultDF"
   ]
  },
  {
   "cell_type": "code",
   "execution_count": 15,
   "id": "125f80d6",
   "metadata": {},
   "outputs": [],
   "source": [
    "ResultDF['Nitish'] = [98,88,94]"
   ]
  },
  {
   "cell_type": "code",
   "execution_count": 16,
   "id": "f591f4a8",
   "metadata": {},
   "outputs": [
    {
     "data": {
      "text/html": [
       "<div>\n",
       "<style scoped>\n",
       "    .dataframe tbody tr th:only-of-type {\n",
       "        vertical-align: middle;\n",
       "    }\n",
       "\n",
       "    .dataframe tbody tr th {\n",
       "        vertical-align: top;\n",
       "    }\n",
       "\n",
       "    .dataframe thead th {\n",
       "        text-align: right;\n",
       "    }\n",
       "</style>\n",
       "<table border=\"1\" class=\"dataframe\">\n",
       "  <thead>\n",
       "    <tr style=\"text-align: right;\">\n",
       "      <th></th>\n",
       "      <th>Arnab</th>\n",
       "      <th>Ramit</th>\n",
       "      <th>Samridhi</th>\n",
       "      <th>Riya</th>\n",
       "      <th>Mallika</th>\n",
       "      <th>Raj</th>\n",
       "      <th>Nitish</th>\n",
       "    </tr>\n",
       "  </thead>\n",
       "  <tbody>\n",
       "    <tr>\n",
       "      <th>Maths</th>\n",
       "      <td>90</td>\n",
       "      <td>92</td>\n",
       "      <td>89</td>\n",
       "      <td>81</td>\n",
       "      <td>94</td>\n",
       "      <td>88</td>\n",
       "      <td>98</td>\n",
       "    </tr>\n",
       "    <tr>\n",
       "      <th>Science</th>\n",
       "      <td>91</td>\n",
       "      <td>81</td>\n",
       "      <td>91</td>\n",
       "      <td>71</td>\n",
       "      <td>95</td>\n",
       "      <td>92</td>\n",
       "      <td>88</td>\n",
       "    </tr>\n",
       "    <tr>\n",
       "      <th>Hindi</th>\n",
       "      <td>97</td>\n",
       "      <td>96</td>\n",
       "      <td>88</td>\n",
       "      <td>67</td>\n",
       "      <td>99</td>\n",
       "      <td>94</td>\n",
       "      <td>94</td>\n",
       "    </tr>\n",
       "  </tbody>\n",
       "</table>\n",
       "</div>"
      ],
      "text/plain": [
       "         Arnab  Ramit  Samridhi  Riya  Mallika  Raj  Nitish\n",
       "Maths       90     92        89    81       94   88      98\n",
       "Science     91     81        91    71       95   92      88\n",
       "Hindi       97     96        88    67       99   94      94"
      ]
     },
     "execution_count": 16,
     "metadata": {},
     "output_type": "execute_result"
    }
   ],
   "source": [
    "ResultDF"
   ]
  },
  {
   "cell_type": "code",
   "execution_count": 17,
   "id": "be4a5e63",
   "metadata": {},
   "outputs": [],
   "source": [
    "ResultDF['Arnab'] = [98,88,94]"
   ]
  },
  {
   "cell_type": "code",
   "execution_count": 18,
   "id": "a2c534f8",
   "metadata": {},
   "outputs": [
    {
     "data": {
      "text/html": [
       "<div>\n",
       "<style scoped>\n",
       "    .dataframe tbody tr th:only-of-type {\n",
       "        vertical-align: middle;\n",
       "    }\n",
       "\n",
       "    .dataframe tbody tr th {\n",
       "        vertical-align: top;\n",
       "    }\n",
       "\n",
       "    .dataframe thead th {\n",
       "        text-align: right;\n",
       "    }\n",
       "</style>\n",
       "<table border=\"1\" class=\"dataframe\">\n",
       "  <thead>\n",
       "    <tr style=\"text-align: right;\">\n",
       "      <th></th>\n",
       "      <th>Arnab</th>\n",
       "      <th>Ramit</th>\n",
       "      <th>Samridhi</th>\n",
       "      <th>Riya</th>\n",
       "      <th>Mallika</th>\n",
       "      <th>Raj</th>\n",
       "      <th>Nitish</th>\n",
       "    </tr>\n",
       "  </thead>\n",
       "  <tbody>\n",
       "    <tr>\n",
       "      <th>Maths</th>\n",
       "      <td>98</td>\n",
       "      <td>92</td>\n",
       "      <td>89</td>\n",
       "      <td>81</td>\n",
       "      <td>94</td>\n",
       "      <td>88</td>\n",
       "      <td>98</td>\n",
       "    </tr>\n",
       "    <tr>\n",
       "      <th>Science</th>\n",
       "      <td>88</td>\n",
       "      <td>81</td>\n",
       "      <td>91</td>\n",
       "      <td>71</td>\n",
       "      <td>95</td>\n",
       "      <td>92</td>\n",
       "      <td>88</td>\n",
       "    </tr>\n",
       "    <tr>\n",
       "      <th>Hindi</th>\n",
       "      <td>94</td>\n",
       "      <td>96</td>\n",
       "      <td>88</td>\n",
       "      <td>67</td>\n",
       "      <td>99</td>\n",
       "      <td>94</td>\n",
       "      <td>94</td>\n",
       "    </tr>\n",
       "  </tbody>\n",
       "</table>\n",
       "</div>"
      ],
      "text/plain": [
       "         Arnab  Ramit  Samridhi  Riya  Mallika  Raj  Nitish\n",
       "Maths       98     92        89    81       94   88      98\n",
       "Science     88     81        91    71       95   92      88\n",
       "Hindi       94     96        88    67       99   94      94"
      ]
     },
     "execution_count": 18,
     "metadata": {},
     "output_type": "execute_result"
    }
   ],
   "source": [
    "ResultDF"
   ]
  },
  {
   "cell_type": "code",
   "execution_count": 19,
   "id": "a573be8f",
   "metadata": {},
   "outputs": [],
   "source": [
    "ResultDF['Samridhi'] = 95"
   ]
  },
  {
   "cell_type": "code",
   "execution_count": 20,
   "id": "b9340594",
   "metadata": {},
   "outputs": [
    {
     "data": {
      "text/html": [
       "<div>\n",
       "<style scoped>\n",
       "    .dataframe tbody tr th:only-of-type {\n",
       "        vertical-align: middle;\n",
       "    }\n",
       "\n",
       "    .dataframe tbody tr th {\n",
       "        vertical-align: top;\n",
       "    }\n",
       "\n",
       "    .dataframe thead th {\n",
       "        text-align: right;\n",
       "    }\n",
       "</style>\n",
       "<table border=\"1\" class=\"dataframe\">\n",
       "  <thead>\n",
       "    <tr style=\"text-align: right;\">\n",
       "      <th></th>\n",
       "      <th>Arnab</th>\n",
       "      <th>Ramit</th>\n",
       "      <th>Samridhi</th>\n",
       "      <th>Riya</th>\n",
       "      <th>Mallika</th>\n",
       "      <th>Raj</th>\n",
       "      <th>Nitish</th>\n",
       "    </tr>\n",
       "  </thead>\n",
       "  <tbody>\n",
       "    <tr>\n",
       "      <th>Maths</th>\n",
       "      <td>98</td>\n",
       "      <td>92</td>\n",
       "      <td>95</td>\n",
       "      <td>81</td>\n",
       "      <td>94</td>\n",
       "      <td>88</td>\n",
       "      <td>98</td>\n",
       "    </tr>\n",
       "    <tr>\n",
       "      <th>Science</th>\n",
       "      <td>88</td>\n",
       "      <td>81</td>\n",
       "      <td>95</td>\n",
       "      <td>71</td>\n",
       "      <td>95</td>\n",
       "      <td>92</td>\n",
       "      <td>88</td>\n",
       "    </tr>\n",
       "    <tr>\n",
       "      <th>Hindi</th>\n",
       "      <td>94</td>\n",
       "      <td>96</td>\n",
       "      <td>95</td>\n",
       "      <td>67</td>\n",
       "      <td>99</td>\n",
       "      <td>94</td>\n",
       "      <td>94</td>\n",
       "    </tr>\n",
       "  </tbody>\n",
       "</table>\n",
       "</div>"
      ],
      "text/plain": [
       "         Arnab  Ramit  Samridhi  Riya  Mallika  Raj  Nitish\n",
       "Maths       98     92        95    81       94   88      98\n",
       "Science     88     81        95    71       95   92      88\n",
       "Hindi       94     96        95    67       99   94      94"
      ]
     },
     "execution_count": 20,
     "metadata": {},
     "output_type": "execute_result"
    }
   ],
   "source": [
    "ResultDF"
   ]
  },
  {
   "cell_type": "code",
   "execution_count": 21,
   "id": "92cc95c1",
   "metadata": {},
   "outputs": [],
   "source": [
    "#(B) Adding a New Row to a DataFrame"
   ]
  },
  {
   "cell_type": "code",
   "execution_count": 22,
   "id": "1c0bc9be",
   "metadata": {},
   "outputs": [],
   "source": [
    "ResultDF.loc['Computer'] = [84,88,92,94,89,88,91]"
   ]
  },
  {
   "cell_type": "code",
   "execution_count": 23,
   "id": "12421c32",
   "metadata": {},
   "outputs": [
    {
     "data": {
      "text/html": [
       "<div>\n",
       "<style scoped>\n",
       "    .dataframe tbody tr th:only-of-type {\n",
       "        vertical-align: middle;\n",
       "    }\n",
       "\n",
       "    .dataframe tbody tr th {\n",
       "        vertical-align: top;\n",
       "    }\n",
       "\n",
       "    .dataframe thead th {\n",
       "        text-align: right;\n",
       "    }\n",
       "</style>\n",
       "<table border=\"1\" class=\"dataframe\">\n",
       "  <thead>\n",
       "    <tr style=\"text-align: right;\">\n",
       "      <th></th>\n",
       "      <th>Arnab</th>\n",
       "      <th>Ramit</th>\n",
       "      <th>Samridhi</th>\n",
       "      <th>Riya</th>\n",
       "      <th>Mallika</th>\n",
       "      <th>Raj</th>\n",
       "      <th>Nitish</th>\n",
       "    </tr>\n",
       "  </thead>\n",
       "  <tbody>\n",
       "    <tr>\n",
       "      <th>Maths</th>\n",
       "      <td>98</td>\n",
       "      <td>92</td>\n",
       "      <td>95</td>\n",
       "      <td>81</td>\n",
       "      <td>94</td>\n",
       "      <td>88</td>\n",
       "      <td>98</td>\n",
       "    </tr>\n",
       "    <tr>\n",
       "      <th>Science</th>\n",
       "      <td>88</td>\n",
       "      <td>81</td>\n",
       "      <td>95</td>\n",
       "      <td>71</td>\n",
       "      <td>95</td>\n",
       "      <td>92</td>\n",
       "      <td>88</td>\n",
       "    </tr>\n",
       "    <tr>\n",
       "      <th>Hindi</th>\n",
       "      <td>94</td>\n",
       "      <td>96</td>\n",
       "      <td>95</td>\n",
       "      <td>67</td>\n",
       "      <td>99</td>\n",
       "      <td>94</td>\n",
       "      <td>94</td>\n",
       "    </tr>\n",
       "    <tr>\n",
       "      <th>Computer</th>\n",
       "      <td>84</td>\n",
       "      <td>88</td>\n",
       "      <td>92</td>\n",
       "      <td>94</td>\n",
       "      <td>89</td>\n",
       "      <td>88</td>\n",
       "      <td>91</td>\n",
       "    </tr>\n",
       "  </tbody>\n",
       "</table>\n",
       "</div>"
      ],
      "text/plain": [
       "          Arnab  Ramit  Samridhi  Riya  Mallika  Raj  Nitish\n",
       "Maths        98     92        95    81       94   88      98\n",
       "Science      88     81        95    71       95   92      88\n",
       "Hindi        94     96        95    67       99   94      94\n",
       "Computer     84     88        92    94       89   88      91"
      ]
     },
     "execution_count": 23,
     "metadata": {},
     "output_type": "execute_result"
    }
   ],
   "source": [
    "ResultDF"
   ]
  },
  {
   "cell_type": "code",
   "execution_count": 24,
   "id": "04ff488e",
   "metadata": {},
   "outputs": [
    {
     "data": {
      "text/html": [
       "<div>\n",
       "<style scoped>\n",
       "    .dataframe tbody tr th:only-of-type {\n",
       "        vertical-align: middle;\n",
       "    }\n",
       "\n",
       "    .dataframe tbody tr th {\n",
       "        vertical-align: top;\n",
       "    }\n",
       "\n",
       "    .dataframe thead th {\n",
       "        text-align: right;\n",
       "    }\n",
       "</style>\n",
       "<table border=\"1\" class=\"dataframe\">\n",
       "  <thead>\n",
       "    <tr style=\"text-align: right;\">\n",
       "      <th></th>\n",
       "      <th>Arnab</th>\n",
       "      <th>Ramit</th>\n",
       "      <th>Samridhi</th>\n",
       "      <th>Riya</th>\n",
       "      <th>Mallika</th>\n",
       "      <th>Raj</th>\n",
       "      <th>Nitish</th>\n",
       "    </tr>\n",
       "  </thead>\n",
       "  <tbody>\n",
       "    <tr>\n",
       "      <th>Maths</th>\n",
       "      <td>98</td>\n",
       "      <td>92</td>\n",
       "      <td>95</td>\n",
       "      <td>81</td>\n",
       "      <td>94</td>\n",
       "      <td>88</td>\n",
       "      <td>98</td>\n",
       "    </tr>\n",
       "    <tr>\n",
       "      <th>Science</th>\n",
       "      <td>88</td>\n",
       "      <td>81</td>\n",
       "      <td>95</td>\n",
       "      <td>71</td>\n",
       "      <td>95</td>\n",
       "      <td>92</td>\n",
       "      <td>88</td>\n",
       "    </tr>\n",
       "    <tr>\n",
       "      <th>Hindi</th>\n",
       "      <td>94</td>\n",
       "      <td>96</td>\n",
       "      <td>95</td>\n",
       "      <td>67</td>\n",
       "      <td>99</td>\n",
       "      <td>94</td>\n",
       "      <td>94</td>\n",
       "    </tr>\n",
       "    <tr>\n",
       "      <th>Computer</th>\n",
       "      <td>90</td>\n",
       "      <td>90</td>\n",
       "      <td>90</td>\n",
       "      <td>90</td>\n",
       "      <td>90</td>\n",
       "      <td>90</td>\n",
       "      <td>90</td>\n",
       "    </tr>\n",
       "  </tbody>\n",
       "</table>\n",
       "</div>"
      ],
      "text/plain": [
       "          Arnab  Ramit  Samridhi  Riya  Mallika  Raj  Nitish\n",
       "Maths        98     92        95    81       94   88      98\n",
       "Science      88     81        95    71       95   92      88\n",
       "Hindi        94     96        95    67       99   94      94\n",
       "Computer     90     90        90    90       90   90      90"
      ]
     },
     "execution_count": 24,
     "metadata": {},
     "output_type": "execute_result"
    }
   ],
   "source": [
    "ResultDF.loc['Computer'] = 90\n",
    "ResultDF"
   ]
  },
  {
   "cell_type": "code",
   "execution_count": 25,
   "id": "d0bc68a5",
   "metadata": {},
   "outputs": [
    {
     "data": {
      "text/html": [
       "<div>\n",
       "<style scoped>\n",
       "    .dataframe tbody tr th:only-of-type {\n",
       "        vertical-align: middle;\n",
       "    }\n",
       "\n",
       "    .dataframe tbody tr th {\n",
       "        vertical-align: top;\n",
       "    }\n",
       "\n",
       "    .dataframe thead th {\n",
       "        text-align: right;\n",
       "    }\n",
       "</style>\n",
       "<table border=\"1\" class=\"dataframe\">\n",
       "  <thead>\n",
       "    <tr style=\"text-align: right;\">\n",
       "      <th></th>\n",
       "      <th>Arnab</th>\n",
       "      <th>Ramit</th>\n",
       "      <th>Samridhi</th>\n",
       "      <th>Riya</th>\n",
       "      <th>Mallika</th>\n",
       "      <th>Raj</th>\n",
       "      <th>Nitish</th>\n",
       "    </tr>\n",
       "  </thead>\n",
       "  <tbody>\n",
       "    <tr>\n",
       "      <th>Maths</th>\n",
       "      <td>80</td>\n",
       "      <td>80</td>\n",
       "      <td>80</td>\n",
       "      <td>80</td>\n",
       "      <td>80</td>\n",
       "      <td>80</td>\n",
       "      <td>80</td>\n",
       "    </tr>\n",
       "    <tr>\n",
       "      <th>Science</th>\n",
       "      <td>80</td>\n",
       "      <td>80</td>\n",
       "      <td>80</td>\n",
       "      <td>80</td>\n",
       "      <td>80</td>\n",
       "      <td>80</td>\n",
       "      <td>80</td>\n",
       "    </tr>\n",
       "    <tr>\n",
       "      <th>Hindi</th>\n",
       "      <td>80</td>\n",
       "      <td>80</td>\n",
       "      <td>80</td>\n",
       "      <td>80</td>\n",
       "      <td>80</td>\n",
       "      <td>80</td>\n",
       "      <td>80</td>\n",
       "    </tr>\n",
       "    <tr>\n",
       "      <th>Computer</th>\n",
       "      <td>80</td>\n",
       "      <td>80</td>\n",
       "      <td>80</td>\n",
       "      <td>80</td>\n",
       "      <td>80</td>\n",
       "      <td>80</td>\n",
       "      <td>80</td>\n",
       "    </tr>\n",
       "  </tbody>\n",
       "</table>\n",
       "</div>"
      ],
      "text/plain": [
       "          Arnab  Ramit  Samridhi  Riya  Mallika  Raj  Nitish\n",
       "Maths        80     80        80    80       80   80      80\n",
       "Science      80     80        80    80       80   80      80\n",
       "Hindi        80     80        80    80       80   80      80\n",
       "Computer     80     80        80    80       80   80      80"
      ]
     },
     "execution_count": 25,
     "metadata": {},
     "output_type": "execute_result"
    }
   ],
   "source": [
    "ResultDF[:] = 80\n",
    "ResultDF"
   ]
  },
  {
   "cell_type": "code",
   "execution_count": 26,
   "id": "5e9d5e8d",
   "metadata": {},
   "outputs": [],
   "source": [
    "#(C) Deleting Rows or Columns from a DataFrame"
   ]
  },
  {
   "cell_type": "code",
   "execution_count": null,
   "id": "13297d02",
   "metadata": {},
   "outputs": [],
   "source": []
  },
  {
   "cell_type": "code",
   "execution_count": 27,
   "id": "8ecf696f",
   "metadata": {},
   "outputs": [
    {
     "data": {
      "text/html": [
       "<div>\n",
       "<style scoped>\n",
       "    .dataframe tbody tr th:only-of-type {\n",
       "        vertical-align: middle;\n",
       "    }\n",
       "\n",
       "    .dataframe tbody tr th {\n",
       "        vertical-align: top;\n",
       "    }\n",
       "\n",
       "    .dataframe thead th {\n",
       "        text-align: right;\n",
       "    }\n",
       "</style>\n",
       "<table border=\"1\" class=\"dataframe\">\n",
       "  <thead>\n",
       "    <tr style=\"text-align: right;\">\n",
       "      <th></th>\n",
       "      <th>Arnab</th>\n",
       "      <th>Ramit</th>\n",
       "      <th>Samridhi</th>\n",
       "      <th>Riya</th>\n",
       "      <th>Mallika</th>\n",
       "      <th>Raj</th>\n",
       "      <th>Nitish</th>\n",
       "    </tr>\n",
       "  </thead>\n",
       "  <tbody>\n",
       "    <tr>\n",
       "      <th>Maths</th>\n",
       "      <td>80</td>\n",
       "      <td>80</td>\n",
       "      <td>80</td>\n",
       "      <td>80</td>\n",
       "      <td>80</td>\n",
       "      <td>80</td>\n",
       "      <td>80</td>\n",
       "    </tr>\n",
       "    <tr>\n",
       "      <th>Science</th>\n",
       "      <td>80</td>\n",
       "      <td>80</td>\n",
       "      <td>80</td>\n",
       "      <td>80</td>\n",
       "      <td>80</td>\n",
       "      <td>80</td>\n",
       "      <td>80</td>\n",
       "    </tr>\n",
       "    <tr>\n",
       "      <th>Hindi</th>\n",
       "      <td>80</td>\n",
       "      <td>80</td>\n",
       "      <td>80</td>\n",
       "      <td>80</td>\n",
       "      <td>80</td>\n",
       "      <td>80</td>\n",
       "      <td>80</td>\n",
       "    </tr>\n",
       "    <tr>\n",
       "      <th>Computer</th>\n",
       "      <td>80</td>\n",
       "      <td>80</td>\n",
       "      <td>80</td>\n",
       "      <td>80</td>\n",
       "      <td>80</td>\n",
       "      <td>80</td>\n",
       "      <td>80</td>\n",
       "    </tr>\n",
       "  </tbody>\n",
       "</table>\n",
       "</div>"
      ],
      "text/plain": [
       "          Arnab  Ramit  Samridhi  Riya  Mallika  Raj  Nitish\n",
       "Maths        80     80        80    80       80   80      80\n",
       "Science      80     80        80    80       80   80      80\n",
       "Hindi        80     80        80    80       80   80      80\n",
       "Computer     80     80        80    80       80   80      80"
      ]
     },
     "execution_count": 27,
     "metadata": {},
     "output_type": "execute_result"
    }
   ],
   "source": [
    "ResultDF"
   ]
  },
  {
   "cell_type": "code",
   "execution_count": 28,
   "id": "c2abcb74",
   "metadata": {},
   "outputs": [],
   "source": [
    "ResultDF = ResultDF.drop('Computer', axis =0)"
   ]
  },
  {
   "cell_type": "code",
   "execution_count": 29,
   "id": "6d828ccd",
   "metadata": {},
   "outputs": [
    {
     "data": {
      "text/html": [
       "<div>\n",
       "<style scoped>\n",
       "    .dataframe tbody tr th:only-of-type {\n",
       "        vertical-align: middle;\n",
       "    }\n",
       "\n",
       "    .dataframe tbody tr th {\n",
       "        vertical-align: top;\n",
       "    }\n",
       "\n",
       "    .dataframe thead th {\n",
       "        text-align: right;\n",
       "    }\n",
       "</style>\n",
       "<table border=\"1\" class=\"dataframe\">\n",
       "  <thead>\n",
       "    <tr style=\"text-align: right;\">\n",
       "      <th></th>\n",
       "      <th>Arnab</th>\n",
       "      <th>Ramit</th>\n",
       "      <th>Samridhi</th>\n",
       "      <th>Riya</th>\n",
       "      <th>Mallika</th>\n",
       "      <th>Raj</th>\n",
       "      <th>Nitish</th>\n",
       "    </tr>\n",
       "  </thead>\n",
       "  <tbody>\n",
       "    <tr>\n",
       "      <th>Maths</th>\n",
       "      <td>80</td>\n",
       "      <td>80</td>\n",
       "      <td>80</td>\n",
       "      <td>80</td>\n",
       "      <td>80</td>\n",
       "      <td>80</td>\n",
       "      <td>80</td>\n",
       "    </tr>\n",
       "    <tr>\n",
       "      <th>Science</th>\n",
       "      <td>80</td>\n",
       "      <td>80</td>\n",
       "      <td>80</td>\n",
       "      <td>80</td>\n",
       "      <td>80</td>\n",
       "      <td>80</td>\n",
       "      <td>80</td>\n",
       "    </tr>\n",
       "    <tr>\n",
       "      <th>Hindi</th>\n",
       "      <td>80</td>\n",
       "      <td>80</td>\n",
       "      <td>80</td>\n",
       "      <td>80</td>\n",
       "      <td>80</td>\n",
       "      <td>80</td>\n",
       "      <td>80</td>\n",
       "    </tr>\n",
       "  </tbody>\n",
       "</table>\n",
       "</div>"
      ],
      "text/plain": [
       "         Arnab  Ramit  Samridhi  Riya  Mallika  Raj  Nitish\n",
       "Maths       80     80        80    80       80   80      80\n",
       "Science     80     80        80    80       80   80      80\n",
       "Hindi       80     80        80    80       80   80      80"
      ]
     },
     "execution_count": 29,
     "metadata": {},
     "output_type": "execute_result"
    }
   ],
   "source": [
    "ResultDF"
   ]
  },
  {
   "cell_type": "code",
   "execution_count": 30,
   "id": "59e44793",
   "metadata": {},
   "outputs": [],
   "source": [
    "# X axis = row (axis=0)\n",
    "#Y axis = column (axis =1)"
   ]
  },
  {
   "cell_type": "code",
   "execution_count": 31,
   "id": "becf2069",
   "metadata": {},
   "outputs": [],
   "source": [
    "#For row = ResultDF = ResultDF.drop('RowName', axis =0)\n",
    "#For Column = ResultDF = ResultDF.drop('ColumnName', axis =1)"
   ]
  },
  {
   "cell_type": "code",
   "execution_count": 32,
   "id": "dd6ea51e",
   "metadata": {},
   "outputs": [],
   "source": [
    "ResultDF = ResultDF.drop('Ramit', axis =1)"
   ]
  },
  {
   "cell_type": "code",
   "execution_count": 33,
   "id": "558bf051",
   "metadata": {},
   "outputs": [
    {
     "data": {
      "text/html": [
       "<div>\n",
       "<style scoped>\n",
       "    .dataframe tbody tr th:only-of-type {\n",
       "        vertical-align: middle;\n",
       "    }\n",
       "\n",
       "    .dataframe tbody tr th {\n",
       "        vertical-align: top;\n",
       "    }\n",
       "\n",
       "    .dataframe thead th {\n",
       "        text-align: right;\n",
       "    }\n",
       "</style>\n",
       "<table border=\"1\" class=\"dataframe\">\n",
       "  <thead>\n",
       "    <tr style=\"text-align: right;\">\n",
       "      <th></th>\n",
       "      <th>Arnab</th>\n",
       "      <th>Samridhi</th>\n",
       "      <th>Riya</th>\n",
       "      <th>Mallika</th>\n",
       "      <th>Raj</th>\n",
       "      <th>Nitish</th>\n",
       "    </tr>\n",
       "  </thead>\n",
       "  <tbody>\n",
       "    <tr>\n",
       "      <th>Maths</th>\n",
       "      <td>80</td>\n",
       "      <td>80</td>\n",
       "      <td>80</td>\n",
       "      <td>80</td>\n",
       "      <td>80</td>\n",
       "      <td>80</td>\n",
       "    </tr>\n",
       "    <tr>\n",
       "      <th>Science</th>\n",
       "      <td>80</td>\n",
       "      <td>80</td>\n",
       "      <td>80</td>\n",
       "      <td>80</td>\n",
       "      <td>80</td>\n",
       "      <td>80</td>\n",
       "    </tr>\n",
       "    <tr>\n",
       "      <th>Hindi</th>\n",
       "      <td>80</td>\n",
       "      <td>80</td>\n",
       "      <td>80</td>\n",
       "      <td>80</td>\n",
       "      <td>80</td>\n",
       "      <td>80</td>\n",
       "    </tr>\n",
       "  </tbody>\n",
       "</table>\n",
       "</div>"
      ],
      "text/plain": [
       "         Arnab  Samridhi  Riya  Mallika  Raj  Nitish\n",
       "Maths       80        80    80       80   80      80\n",
       "Science     80        80    80       80   80      80\n",
       "Hindi       80        80    80       80   80      80"
      ]
     },
     "execution_count": 33,
     "metadata": {},
     "output_type": "execute_result"
    }
   ],
   "source": [
    "ResultDF"
   ]
  },
  {
   "cell_type": "code",
   "execution_count": 34,
   "id": "f4032030",
   "metadata": {},
   "outputs": [],
   "source": [
    "#(D) Renaming Row Labels of a DataFrame\n"
   ]
  },
  {
   "cell_type": "code",
   "execution_count": 35,
   "id": "1c13993b",
   "metadata": {},
   "outputs": [],
   "source": [
    "ResultDF = ResultDF.rename({'Science':'Computer','Hindi':'English'})"
   ]
  },
  {
   "cell_type": "code",
   "execution_count": 36,
   "id": "7dd60ed0",
   "metadata": {},
   "outputs": [
    {
     "data": {
      "text/html": [
       "<div>\n",
       "<style scoped>\n",
       "    .dataframe tbody tr th:only-of-type {\n",
       "        vertical-align: middle;\n",
       "    }\n",
       "\n",
       "    .dataframe tbody tr th {\n",
       "        vertical-align: top;\n",
       "    }\n",
       "\n",
       "    .dataframe thead th {\n",
       "        text-align: right;\n",
       "    }\n",
       "</style>\n",
       "<table border=\"1\" class=\"dataframe\">\n",
       "  <thead>\n",
       "    <tr style=\"text-align: right;\">\n",
       "      <th></th>\n",
       "      <th>Arnab</th>\n",
       "      <th>Samridhi</th>\n",
       "      <th>Riya</th>\n",
       "      <th>Mallika</th>\n",
       "      <th>Raj</th>\n",
       "      <th>Nitish</th>\n",
       "    </tr>\n",
       "  </thead>\n",
       "  <tbody>\n",
       "    <tr>\n",
       "      <th>Maths</th>\n",
       "      <td>80</td>\n",
       "      <td>80</td>\n",
       "      <td>80</td>\n",
       "      <td>80</td>\n",
       "      <td>80</td>\n",
       "      <td>80</td>\n",
       "    </tr>\n",
       "    <tr>\n",
       "      <th>Computer</th>\n",
       "      <td>80</td>\n",
       "      <td>80</td>\n",
       "      <td>80</td>\n",
       "      <td>80</td>\n",
       "      <td>80</td>\n",
       "      <td>80</td>\n",
       "    </tr>\n",
       "    <tr>\n",
       "      <th>English</th>\n",
       "      <td>80</td>\n",
       "      <td>80</td>\n",
       "      <td>80</td>\n",
       "      <td>80</td>\n",
       "      <td>80</td>\n",
       "      <td>80</td>\n",
       "    </tr>\n",
       "  </tbody>\n",
       "</table>\n",
       "</div>"
      ],
      "text/plain": [
       "          Arnab  Samridhi  Riya  Mallika  Raj  Nitish\n",
       "Maths        80        80    80       80   80      80\n",
       "Computer     80        80    80       80   80      80\n",
       "English      80        80    80       80   80      80"
      ]
     },
     "execution_count": 36,
     "metadata": {},
     "output_type": "execute_result"
    }
   ],
   "source": [
    "ResultDF"
   ]
  },
  {
   "cell_type": "code",
   "execution_count": 40,
   "id": "1f0aec79",
   "metadata": {},
   "outputs": [],
   "source": [
    "#(E) Renaming Column Labels of a DataFrame"
   ]
  },
  {
   "cell_type": "code",
   "execution_count": 44,
   "id": "74c14cf7",
   "metadata": {},
   "outputs": [],
   "source": [
    "ResultDF = ResultDF.rename({'Riya':'Pooja','Mallika':'Arora'},axis = 'columns')"
   ]
  },
  {
   "cell_type": "code",
   "execution_count": 45,
   "id": "50b98554",
   "metadata": {},
   "outputs": [
    {
     "data": {
      "text/html": [
       "<div>\n",
       "<style scoped>\n",
       "    .dataframe tbody tr th:only-of-type {\n",
       "        vertical-align: middle;\n",
       "    }\n",
       "\n",
       "    .dataframe tbody tr th {\n",
       "        vertical-align: top;\n",
       "    }\n",
       "\n",
       "    .dataframe thead th {\n",
       "        text-align: right;\n",
       "    }\n",
       "</style>\n",
       "<table border=\"1\" class=\"dataframe\">\n",
       "  <thead>\n",
       "    <tr style=\"text-align: right;\">\n",
       "      <th></th>\n",
       "      <th>Arnab</th>\n",
       "      <th>Samridhi</th>\n",
       "      <th>Pooja</th>\n",
       "      <th>Arora</th>\n",
       "      <th>Raj</th>\n",
       "      <th>Nitish</th>\n",
       "    </tr>\n",
       "  </thead>\n",
       "  <tbody>\n",
       "    <tr>\n",
       "      <th>Maths</th>\n",
       "      <td>80</td>\n",
       "      <td>80</td>\n",
       "      <td>80</td>\n",
       "      <td>80</td>\n",
       "      <td>80</td>\n",
       "      <td>80</td>\n",
       "    </tr>\n",
       "    <tr>\n",
       "      <th>Computer</th>\n",
       "      <td>80</td>\n",
       "      <td>80</td>\n",
       "      <td>80</td>\n",
       "      <td>80</td>\n",
       "      <td>80</td>\n",
       "      <td>80</td>\n",
       "    </tr>\n",
       "    <tr>\n",
       "      <th>English</th>\n",
       "      <td>80</td>\n",
       "      <td>80</td>\n",
       "      <td>80</td>\n",
       "      <td>80</td>\n",
       "      <td>80</td>\n",
       "      <td>80</td>\n",
       "    </tr>\n",
       "  </tbody>\n",
       "</table>\n",
       "</div>"
      ],
      "text/plain": [
       "          Arnab  Samridhi  Pooja  Arora  Raj  Nitish\n",
       "Maths        80        80     80     80   80      80\n",
       "Computer     80        80     80     80   80      80\n",
       "English      80        80     80     80   80      80"
      ]
     },
     "execution_count": 45,
     "metadata": {},
     "output_type": "execute_result"
    }
   ],
   "source": [
    "ResultDF"
   ]
  },
  {
   "cell_type": "code",
   "execution_count": 46,
   "id": "41cd04a4",
   "metadata": {},
   "outputs": [],
   "source": [
    "#2.3.3 Accessing DataFrames Element through Indexing"
   ]
  },
  {
   "cell_type": "code",
   "execution_count": 47,
   "id": "be646121",
   "metadata": {},
   "outputs": [],
   "source": [
    "ResultDF = ResultDF.rename({'Riya':'Pooja','Mallika':'Arora'},axis = 1)"
   ]
  },
  {
   "cell_type": "code",
   "execution_count": 48,
   "id": "e1a7ef52",
   "metadata": {},
   "outputs": [
    {
     "data": {
      "text/html": [
       "<div>\n",
       "<style scoped>\n",
       "    .dataframe tbody tr th:only-of-type {\n",
       "        vertical-align: middle;\n",
       "    }\n",
       "\n",
       "    .dataframe tbody tr th {\n",
       "        vertical-align: top;\n",
       "    }\n",
       "\n",
       "    .dataframe thead th {\n",
       "        text-align: right;\n",
       "    }\n",
       "</style>\n",
       "<table border=\"1\" class=\"dataframe\">\n",
       "  <thead>\n",
       "    <tr style=\"text-align: right;\">\n",
       "      <th></th>\n",
       "      <th>Arnab</th>\n",
       "      <th>Samridhi</th>\n",
       "      <th>Pooja</th>\n",
       "      <th>Arora</th>\n",
       "      <th>Raj</th>\n",
       "      <th>Nitish</th>\n",
       "    </tr>\n",
       "  </thead>\n",
       "  <tbody>\n",
       "    <tr>\n",
       "      <th>Maths</th>\n",
       "      <td>80</td>\n",
       "      <td>80</td>\n",
       "      <td>80</td>\n",
       "      <td>80</td>\n",
       "      <td>80</td>\n",
       "      <td>80</td>\n",
       "    </tr>\n",
       "    <tr>\n",
       "      <th>Computer</th>\n",
       "      <td>80</td>\n",
       "      <td>80</td>\n",
       "      <td>80</td>\n",
       "      <td>80</td>\n",
       "      <td>80</td>\n",
       "      <td>80</td>\n",
       "    </tr>\n",
       "    <tr>\n",
       "      <th>English</th>\n",
       "      <td>80</td>\n",
       "      <td>80</td>\n",
       "      <td>80</td>\n",
       "      <td>80</td>\n",
       "      <td>80</td>\n",
       "      <td>80</td>\n",
       "    </tr>\n",
       "  </tbody>\n",
       "</table>\n",
       "</div>"
      ],
      "text/plain": [
       "          Arnab  Samridhi  Pooja  Arora  Raj  Nitish\n",
       "Maths        80        80     80     80   80      80\n",
       "Computer     80        80     80     80   80      80\n",
       "English      80        80     80     80   80      80"
      ]
     },
     "execution_count": 48,
     "metadata": {},
     "output_type": "execute_result"
    }
   ],
   "source": [
    "ResultDF"
   ]
  },
  {
   "cell_type": "code",
   "execution_count": 1,
   "id": "18dd2350",
   "metadata": {},
   "outputs": [],
   "source": [
    "#(A) Label Based Indexing\n"
   ]
  },
  {
   "cell_type": "code",
   "execution_count": 37,
   "id": "cc0e0c61",
   "metadata": {},
   "outputs": [
    {
     "data": {
      "text/html": [
       "<div>\n",
       "<style scoped>\n",
       "    .dataframe tbody tr th:only-of-type {\n",
       "        vertical-align: middle;\n",
       "    }\n",
       "\n",
       "    .dataframe tbody tr th {\n",
       "        vertical-align: top;\n",
       "    }\n",
       "\n",
       "    .dataframe thead th {\n",
       "        text-align: right;\n",
       "    }\n",
       "</style>\n",
       "<table border=\"1\" class=\"dataframe\">\n",
       "  <thead>\n",
       "    <tr style=\"text-align: right;\">\n",
       "      <th></th>\n",
       "      <th>Arnab</th>\n",
       "      <th>Samridhi</th>\n",
       "      <th>Riya</th>\n",
       "      <th>Mallika</th>\n",
       "      <th>Raj</th>\n",
       "      <th>Nitish</th>\n",
       "    </tr>\n",
       "  </thead>\n",
       "  <tbody>\n",
       "    <tr>\n",
       "      <th>Maths</th>\n",
       "      <td>80</td>\n",
       "      <td>80</td>\n",
       "      <td>80</td>\n",
       "      <td>80</td>\n",
       "      <td>80</td>\n",
       "      <td>80</td>\n",
       "    </tr>\n",
       "    <tr>\n",
       "      <th>Computer</th>\n",
       "      <td>80</td>\n",
       "      <td>80</td>\n",
       "      <td>80</td>\n",
       "      <td>80</td>\n",
       "      <td>80</td>\n",
       "      <td>80</td>\n",
       "    </tr>\n",
       "    <tr>\n",
       "      <th>English</th>\n",
       "      <td>80</td>\n",
       "      <td>80</td>\n",
       "      <td>80</td>\n",
       "      <td>80</td>\n",
       "      <td>80</td>\n",
       "      <td>80</td>\n",
       "    </tr>\n",
       "  </tbody>\n",
       "</table>\n",
       "</div>"
      ],
      "text/plain": [
       "          Arnab  Samridhi  Riya  Mallika  Raj  Nitish\n",
       "Maths        80        80    80       80   80      80\n",
       "Computer     80        80    80       80   80      80\n",
       "English      80        80    80       80   80      80"
      ]
     },
     "execution_count": 37,
     "metadata": {},
     "output_type": "execute_result"
    }
   ],
   "source": [
    "ResultDF"
   ]
  },
  {
   "cell_type": "code",
   "execution_count": 38,
   "id": "008a7a99",
   "metadata": {},
   "outputs": [
    {
     "data": {
      "text/plain": [
       "Arnab       80\n",
       "Samridhi    80\n",
       "Riya        80\n",
       "Mallika     80\n",
       "Raj         80\n",
       "Nitish      80\n",
       "Name: Computer, dtype: int64"
      ]
     },
     "execution_count": 38,
     "metadata": {},
     "output_type": "execute_result"
    }
   ],
   "source": [
    "ResultDF.loc['Computer']"
   ]
  },
  {
   "cell_type": "code",
   "execution_count": 39,
   "id": "3598bfa8",
   "metadata": {},
   "outputs": [],
   "source": [
    "df2 = pd.DataFrame([1,2,3,4,5,6,7,8])"
   ]
  },
  {
   "cell_type": "code",
   "execution_count": 40,
   "id": "44ba521f",
   "metadata": {},
   "outputs": [
    {
     "data": {
      "text/html": [
       "<div>\n",
       "<style scoped>\n",
       "    .dataframe tbody tr th:only-of-type {\n",
       "        vertical-align: middle;\n",
       "    }\n",
       "\n",
       "    .dataframe tbody tr th {\n",
       "        vertical-align: top;\n",
       "    }\n",
       "\n",
       "    .dataframe thead th {\n",
       "        text-align: right;\n",
       "    }\n",
       "</style>\n",
       "<table border=\"1\" class=\"dataframe\">\n",
       "  <thead>\n",
       "    <tr style=\"text-align: right;\">\n",
       "      <th></th>\n",
       "      <th>0</th>\n",
       "    </tr>\n",
       "  </thead>\n",
       "  <tbody>\n",
       "    <tr>\n",
       "      <th>0</th>\n",
       "      <td>1</td>\n",
       "    </tr>\n",
       "    <tr>\n",
       "      <th>1</th>\n",
       "      <td>2</td>\n",
       "    </tr>\n",
       "    <tr>\n",
       "      <th>2</th>\n",
       "      <td>3</td>\n",
       "    </tr>\n",
       "    <tr>\n",
       "      <th>3</th>\n",
       "      <td>4</td>\n",
       "    </tr>\n",
       "    <tr>\n",
       "      <th>4</th>\n",
       "      <td>5</td>\n",
       "    </tr>\n",
       "    <tr>\n",
       "      <th>5</th>\n",
       "      <td>6</td>\n",
       "    </tr>\n",
       "    <tr>\n",
       "      <th>6</th>\n",
       "      <td>7</td>\n",
       "    </tr>\n",
       "    <tr>\n",
       "      <th>7</th>\n",
       "      <td>8</td>\n",
       "    </tr>\n",
       "  </tbody>\n",
       "</table>\n",
       "</div>"
      ],
      "text/plain": [
       "   0\n",
       "0  1\n",
       "1  2\n",
       "2  3\n",
       "3  4\n",
       "4  5\n",
       "5  6\n",
       "6  7\n",
       "7  8"
      ]
     },
     "execution_count": 40,
     "metadata": {},
     "output_type": "execute_result"
    }
   ],
   "source": [
    "df2"
   ]
  },
  {
   "cell_type": "code",
   "execution_count": 43,
   "id": "efc68c61",
   "metadata": {},
   "outputs": [
    {
     "data": {
      "text/plain": [
       "0    4\n",
       "Name: 3, dtype: int64"
      ]
     },
     "execution_count": 43,
     "metadata": {},
     "output_type": "execute_result"
    }
   ],
   "source": [
    "df2.loc[3]"
   ]
  },
  {
   "cell_type": "code",
   "execution_count": 44,
   "id": "fba21f58",
   "metadata": {},
   "outputs": [
    {
     "data": {
      "text/plain": [
       "Arnab       80\n",
       "Samridhi    80\n",
       "Riya        80\n",
       "Mallika     80\n",
       "Raj         80\n",
       "Nitish      80\n",
       "Name: Computer, dtype: int64"
      ]
     },
     "execution_count": 44,
     "metadata": {},
     "output_type": "execute_result"
    }
   ],
   "source": [
    "ResultDF.loc['Computer']"
   ]
  },
  {
   "cell_type": "code",
   "execution_count": 45,
   "id": "e7e28398",
   "metadata": {},
   "outputs": [],
   "source": [
    "#(B) Boolean Indexing"
   ]
  },
  {
   "cell_type": "code",
   "execution_count": 48,
   "id": "7609861f",
   "metadata": {},
   "outputs": [
    {
     "data": {
      "text/plain": [
       "Arnab       True\n",
       "Samridhi    True\n",
       "Riya        True\n",
       "Mallika     True\n",
       "Raj         True\n",
       "Nitish      True\n",
       "Name: Computer, dtype: bool"
      ]
     },
     "execution_count": 48,
     "metadata": {},
     "output_type": "execute_result"
    }
   ],
   "source": [
    "ResultDF.loc['Computer'] >=80"
   ]
  },
  {
   "cell_type": "code",
   "execution_count": 50,
   "id": "8a88bc57",
   "metadata": {},
   "outputs": [
    {
     "ename": "SyntaxError",
     "evalue": "invalid syntax (<ipython-input-50-def6ff579497>, line 1)",
     "output_type": "error",
     "traceback": [
      "\u001b[1;36m  File \u001b[1;32m\"<ipython-input-50-def6ff579497>\"\u001b[1;36m, line \u001b[1;32m1\u001b[0m\n\u001b[1;33m    ResultDF.loc['Computer'] =>80\u001b[0m\n\u001b[1;37m                              ^\u001b[0m\n\u001b[1;31mSyntaxError\u001b[0m\u001b[1;31m:\u001b[0m invalid syntax\n"
     ]
    }
   ],
   "source": [
    "ResultDF.loc['Computer'] =>80"
   ]
  },
  {
   "cell_type": "code",
   "execution_count": 49,
   "id": "c899bfb8",
   "metadata": {},
   "outputs": [],
   "source": [
    "#2.3.4 Accessing DataFrames Element through Slicing"
   ]
  },
  {
   "cell_type": "code",
   "execution_count": 51,
   "id": "44bef5b1",
   "metadata": {},
   "outputs": [
    {
     "data": {
      "text/html": [
       "<div>\n",
       "<style scoped>\n",
       "    .dataframe tbody tr th:only-of-type {\n",
       "        vertical-align: middle;\n",
       "    }\n",
       "\n",
       "    .dataframe tbody tr th {\n",
       "        vertical-align: top;\n",
       "    }\n",
       "\n",
       "    .dataframe thead th {\n",
       "        text-align: right;\n",
       "    }\n",
       "</style>\n",
       "<table border=\"1\" class=\"dataframe\">\n",
       "  <thead>\n",
       "    <tr style=\"text-align: right;\">\n",
       "      <th></th>\n",
       "      <th>Arnab</th>\n",
       "      <th>Samridhi</th>\n",
       "      <th>Riya</th>\n",
       "      <th>Mallika</th>\n",
       "      <th>Raj</th>\n",
       "      <th>Nitish</th>\n",
       "    </tr>\n",
       "  </thead>\n",
       "  <tbody>\n",
       "    <tr>\n",
       "      <th>Maths</th>\n",
       "      <td>80</td>\n",
       "      <td>80</td>\n",
       "      <td>80</td>\n",
       "      <td>80</td>\n",
       "      <td>80</td>\n",
       "      <td>80</td>\n",
       "    </tr>\n",
       "    <tr>\n",
       "      <th>Computer</th>\n",
       "      <td>80</td>\n",
       "      <td>80</td>\n",
       "      <td>80</td>\n",
       "      <td>80</td>\n",
       "      <td>80</td>\n",
       "      <td>80</td>\n",
       "    </tr>\n",
       "    <tr>\n",
       "      <th>English</th>\n",
       "      <td>80</td>\n",
       "      <td>80</td>\n",
       "      <td>80</td>\n",
       "      <td>80</td>\n",
       "      <td>80</td>\n",
       "      <td>80</td>\n",
       "    </tr>\n",
       "  </tbody>\n",
       "</table>\n",
       "</div>"
      ],
      "text/plain": [
       "          Arnab  Samridhi  Riya  Mallika  Raj  Nitish\n",
       "Maths        80        80    80       80   80      80\n",
       "Computer     80        80    80       80   80      80\n",
       "English      80        80    80       80   80      80"
      ]
     },
     "execution_count": 51,
     "metadata": {},
     "output_type": "execute_result"
    }
   ],
   "source": [
    "ResultDF"
   ]
  },
  {
   "cell_type": "code",
   "execution_count": 52,
   "id": "6dd9c2cc",
   "metadata": {},
   "outputs": [
    {
     "data": {
      "text/html": [
       "<div>\n",
       "<style scoped>\n",
       "    .dataframe tbody tr th:only-of-type {\n",
       "        vertical-align: middle;\n",
       "    }\n",
       "\n",
       "    .dataframe tbody tr th {\n",
       "        vertical-align: top;\n",
       "    }\n",
       "\n",
       "    .dataframe thead th {\n",
       "        text-align: right;\n",
       "    }\n",
       "</style>\n",
       "<table border=\"1\" class=\"dataframe\">\n",
       "  <thead>\n",
       "    <tr style=\"text-align: right;\">\n",
       "      <th></th>\n",
       "      <th>Arnab</th>\n",
       "      <th>Samridhi</th>\n",
       "      <th>Riya</th>\n",
       "      <th>Mallika</th>\n",
       "      <th>Raj</th>\n",
       "      <th>Nitish</th>\n",
       "    </tr>\n",
       "  </thead>\n",
       "  <tbody>\n",
       "    <tr>\n",
       "      <th>Computer</th>\n",
       "      <td>80</td>\n",
       "      <td>80</td>\n",
       "      <td>80</td>\n",
       "      <td>80</td>\n",
       "      <td>80</td>\n",
       "      <td>80</td>\n",
       "    </tr>\n",
       "    <tr>\n",
       "      <th>English</th>\n",
       "      <td>80</td>\n",
       "      <td>80</td>\n",
       "      <td>80</td>\n",
       "      <td>80</td>\n",
       "      <td>80</td>\n",
       "      <td>80</td>\n",
       "    </tr>\n",
       "  </tbody>\n",
       "</table>\n",
       "</div>"
      ],
      "text/plain": [
       "          Arnab  Samridhi  Riya  Mallika  Raj  Nitish\n",
       "Computer     80        80    80       80   80      80\n",
       "English      80        80    80       80   80      80"
      ]
     },
     "execution_count": 52,
     "metadata": {},
     "output_type": "execute_result"
    }
   ],
   "source": [
    "ResultDF.loc['Computer':'English']"
   ]
  },
  {
   "cell_type": "code",
   "execution_count": 61,
   "id": "0677b9a7",
   "metadata": {},
   "outputs": [
    {
     "data": {
      "text/plain": [
       "Series([], Name: Raj, dtype: int64)"
      ]
     },
     "execution_count": 61,
     "metadata": {},
     "output_type": "execute_result"
    }
   ],
   "source": [
    "ResultDF.loc['English':'Computer','Raj']"
   ]
  },
  {
   "cell_type": "code",
   "execution_count": 65,
   "id": "140470ab",
   "metadata": {},
   "outputs": [],
   "source": [
    "zz = ResultDF.loc['Computer':'English',['Raj','Riya']]"
   ]
  },
  {
   "cell_type": "code",
   "execution_count": 66,
   "id": "a980d691",
   "metadata": {},
   "outputs": [
    {
     "data": {
      "text/html": [
       "<div>\n",
       "<style scoped>\n",
       "    .dataframe tbody tr th:only-of-type {\n",
       "        vertical-align: middle;\n",
       "    }\n",
       "\n",
       "    .dataframe tbody tr th {\n",
       "        vertical-align: top;\n",
       "    }\n",
       "\n",
       "    .dataframe thead th {\n",
       "        text-align: right;\n",
       "    }\n",
       "</style>\n",
       "<table border=\"1\" class=\"dataframe\">\n",
       "  <thead>\n",
       "    <tr style=\"text-align: right;\">\n",
       "      <th></th>\n",
       "      <th>Raj</th>\n",
       "      <th>Riya</th>\n",
       "    </tr>\n",
       "  </thead>\n",
       "  <tbody>\n",
       "    <tr>\n",
       "      <th>Computer</th>\n",
       "      <td>80</td>\n",
       "      <td>80</td>\n",
       "    </tr>\n",
       "    <tr>\n",
       "      <th>English</th>\n",
       "      <td>80</td>\n",
       "      <td>80</td>\n",
       "    </tr>\n",
       "  </tbody>\n",
       "</table>\n",
       "</div>"
      ],
      "text/plain": [
       "          Raj  Riya\n",
       "Computer   80    80\n",
       "English    80    80"
      ]
     },
     "execution_count": 66,
     "metadata": {},
     "output_type": "execute_result"
    }
   ],
   "source": [
    "zz"
   ]
  },
  {
   "cell_type": "code",
   "execution_count": 67,
   "id": "123221ec",
   "metadata": {},
   "outputs": [],
   "source": [
    "zz = ResultDF.loc['Computer':'English','Raj':'Riya']"
   ]
  },
  {
   "cell_type": "code",
   "execution_count": 68,
   "id": "375c4d6e",
   "metadata": {},
   "outputs": [
    {
     "data": {
      "text/html": [
       "<div>\n",
       "<style scoped>\n",
       "    .dataframe tbody tr th:only-of-type {\n",
       "        vertical-align: middle;\n",
       "    }\n",
       "\n",
       "    .dataframe tbody tr th {\n",
       "        vertical-align: top;\n",
       "    }\n",
       "\n",
       "    .dataframe thead th {\n",
       "        text-align: right;\n",
       "    }\n",
       "</style>\n",
       "<table border=\"1\" class=\"dataframe\">\n",
       "  <thead>\n",
       "    <tr style=\"text-align: right;\">\n",
       "      <th></th>\n",
       "    </tr>\n",
       "  </thead>\n",
       "  <tbody>\n",
       "    <tr>\n",
       "      <th>Computer</th>\n",
       "    </tr>\n",
       "    <tr>\n",
       "      <th>English</th>\n",
       "    </tr>\n",
       "  </tbody>\n",
       "</table>\n",
       "</div>"
      ],
      "text/plain": [
       "Empty DataFrame\n",
       "Columns: []\n",
       "Index: [Computer, English]"
      ]
     },
     "execution_count": 68,
     "metadata": {},
     "output_type": "execute_result"
    }
   ],
   "source": [
    "zz"
   ]
  },
  {
   "cell_type": "code",
   "execution_count": 69,
   "id": "9303a028",
   "metadata": {},
   "outputs": [],
   "source": [
    "yz = ResultDF.loc['Computer':'English','Riya':'Raj']"
   ]
  },
  {
   "cell_type": "code",
   "execution_count": 70,
   "id": "41200331",
   "metadata": {},
   "outputs": [
    {
     "data": {
      "text/html": [
       "<div>\n",
       "<style scoped>\n",
       "    .dataframe tbody tr th:only-of-type {\n",
       "        vertical-align: middle;\n",
       "    }\n",
       "\n",
       "    .dataframe tbody tr th {\n",
       "        vertical-align: top;\n",
       "    }\n",
       "\n",
       "    .dataframe thead th {\n",
       "        text-align: right;\n",
       "    }\n",
       "</style>\n",
       "<table border=\"1\" class=\"dataframe\">\n",
       "  <thead>\n",
       "    <tr style=\"text-align: right;\">\n",
       "      <th></th>\n",
       "      <th>Riya</th>\n",
       "      <th>Mallika</th>\n",
       "      <th>Raj</th>\n",
       "    </tr>\n",
       "  </thead>\n",
       "  <tbody>\n",
       "    <tr>\n",
       "      <th>Computer</th>\n",
       "      <td>80</td>\n",
       "      <td>80</td>\n",
       "      <td>80</td>\n",
       "    </tr>\n",
       "    <tr>\n",
       "      <th>English</th>\n",
       "      <td>80</td>\n",
       "      <td>80</td>\n",
       "      <td>80</td>\n",
       "    </tr>\n",
       "  </tbody>\n",
       "</table>\n",
       "</div>"
      ],
      "text/plain": [
       "          Riya  Mallika  Raj\n",
       "Computer    80       80   80\n",
       "English     80       80   80"
      ]
     },
     "execution_count": 70,
     "metadata": {},
     "output_type": "execute_result"
    }
   ],
   "source": [
    "yz"
   ]
  },
  {
   "cell_type": "code",
   "execution_count": 71,
   "id": "c58ad2ac",
   "metadata": {},
   "outputs": [],
   "source": [
    "#2.3.5 Joining, Merging and Concatenation of  DataFrames"
   ]
  },
  {
   "cell_type": "code",
   "execution_count": 1,
   "id": "bb1395a9",
   "metadata": {},
   "outputs": [],
   "source": [
    "import pandas as pd"
   ]
  },
  {
   "cell_type": "code",
   "execution_count": 2,
   "id": "91f4a3bf",
   "metadata": {},
   "outputs": [],
   "source": [
    "dfram11 = pd.DataFrame([[1,2,3],[4,5],[6]], columns = ['c1','c2','c3'], index = ['r1','r2','r3'])"
   ]
  },
  {
   "cell_type": "code",
   "execution_count": 3,
   "id": "38507177",
   "metadata": {},
   "outputs": [
    {
     "data": {
      "text/html": [
       "<div>\n",
       "<style scoped>\n",
       "    .dataframe tbody tr th:only-of-type {\n",
       "        vertical-align: middle;\n",
       "    }\n",
       "\n",
       "    .dataframe tbody tr th {\n",
       "        vertical-align: top;\n",
       "    }\n",
       "\n",
       "    .dataframe thead th {\n",
       "        text-align: right;\n",
       "    }\n",
       "</style>\n",
       "<table border=\"1\" class=\"dataframe\">\n",
       "  <thead>\n",
       "    <tr style=\"text-align: right;\">\n",
       "      <th></th>\n",
       "      <th>c1</th>\n",
       "      <th>c2</th>\n",
       "      <th>c3</th>\n",
       "    </tr>\n",
       "  </thead>\n",
       "  <tbody>\n",
       "    <tr>\n",
       "      <th>r1</th>\n",
       "      <td>1</td>\n",
       "      <td>2.0</td>\n",
       "      <td>3.0</td>\n",
       "    </tr>\n",
       "    <tr>\n",
       "      <th>r2</th>\n",
       "      <td>4</td>\n",
       "      <td>5.0</td>\n",
       "      <td>NaN</td>\n",
       "    </tr>\n",
       "    <tr>\n",
       "      <th>r3</th>\n",
       "      <td>6</td>\n",
       "      <td>NaN</td>\n",
       "      <td>NaN</td>\n",
       "    </tr>\n",
       "  </tbody>\n",
       "</table>\n",
       "</div>"
      ],
      "text/plain": [
       "    c1   c2   c3\n",
       "r1   1  2.0  3.0\n",
       "r2   4  5.0  NaN\n",
       "r3   6  NaN  NaN"
      ]
     },
     "execution_count": 3,
     "metadata": {},
     "output_type": "execute_result"
    }
   ],
   "source": [
    "dfram11"
   ]
  },
  {
   "cell_type": "code",
   "execution_count": 5,
   "id": "d3c13aee",
   "metadata": {},
   "outputs": [],
   "source": [
    "dfram12 = pd.DataFrame([[10,20],[30],[40,50]], columns = ['c2','c5'], index=['r4','r2','r5'])"
   ]
  },
  {
   "cell_type": "code",
   "execution_count": 6,
   "id": "a02ed0a9",
   "metadata": {},
   "outputs": [
    {
     "data": {
      "text/html": [
       "<div>\n",
       "<style scoped>\n",
       "    .dataframe tbody tr th:only-of-type {\n",
       "        vertical-align: middle;\n",
       "    }\n",
       "\n",
       "    .dataframe tbody tr th {\n",
       "        vertical-align: top;\n",
       "    }\n",
       "\n",
       "    .dataframe thead th {\n",
       "        text-align: right;\n",
       "    }\n",
       "</style>\n",
       "<table border=\"1\" class=\"dataframe\">\n",
       "  <thead>\n",
       "    <tr style=\"text-align: right;\">\n",
       "      <th></th>\n",
       "      <th>c2</th>\n",
       "      <th>c5</th>\n",
       "    </tr>\n",
       "  </thead>\n",
       "  <tbody>\n",
       "    <tr>\n",
       "      <th>r4</th>\n",
       "      <td>10</td>\n",
       "      <td>20.0</td>\n",
       "    </tr>\n",
       "    <tr>\n",
       "      <th>r2</th>\n",
       "      <td>30</td>\n",
       "      <td>NaN</td>\n",
       "    </tr>\n",
       "    <tr>\n",
       "      <th>r5</th>\n",
       "      <td>40</td>\n",
       "      <td>50.0</td>\n",
       "    </tr>\n",
       "  </tbody>\n",
       "</table>\n",
       "</div>"
      ],
      "text/plain": [
       "    c2    c5\n",
       "r4  10  20.0\n",
       "r2  30   NaN\n",
       "r5  40  50.0"
      ]
     },
     "execution_count": 6,
     "metadata": {},
     "output_type": "execute_result"
    }
   ],
   "source": [
    "dfram12"
   ]
  },
  {
   "cell_type": "code",
   "execution_count": 8,
   "id": "dc2a4e10",
   "metadata": {},
   "outputs": [
    {
     "data": {
      "text/html": [
       "<div>\n",
       "<style scoped>\n",
       "    .dataframe tbody tr th:only-of-type {\n",
       "        vertical-align: middle;\n",
       "    }\n",
       "\n",
       "    .dataframe tbody tr th {\n",
       "        vertical-align: top;\n",
       "    }\n",
       "\n",
       "    .dataframe thead th {\n",
       "        text-align: right;\n",
       "    }\n",
       "</style>\n",
       "<table border=\"1\" class=\"dataframe\">\n",
       "  <thead>\n",
       "    <tr style=\"text-align: right;\">\n",
       "      <th></th>\n",
       "      <th>c1</th>\n",
       "      <th>c2</th>\n",
       "      <th>c3</th>\n",
       "      <th>c5</th>\n",
       "    </tr>\n",
       "  </thead>\n",
       "  <tbody>\n",
       "    <tr>\n",
       "      <th>r1</th>\n",
       "      <td>1.0</td>\n",
       "      <td>2.0</td>\n",
       "      <td>3.0</td>\n",
       "      <td>NaN</td>\n",
       "    </tr>\n",
       "    <tr>\n",
       "      <th>r2</th>\n",
       "      <td>4.0</td>\n",
       "      <td>5.0</td>\n",
       "      <td>NaN</td>\n",
       "      <td>NaN</td>\n",
       "    </tr>\n",
       "    <tr>\n",
       "      <th>r3</th>\n",
       "      <td>6.0</td>\n",
       "      <td>NaN</td>\n",
       "      <td>NaN</td>\n",
       "      <td>NaN</td>\n",
       "    </tr>\n",
       "    <tr>\n",
       "      <th>r4</th>\n",
       "      <td>NaN</td>\n",
       "      <td>10.0</td>\n",
       "      <td>NaN</td>\n",
       "      <td>20.0</td>\n",
       "    </tr>\n",
       "    <tr>\n",
       "      <th>r2</th>\n",
       "      <td>NaN</td>\n",
       "      <td>30.0</td>\n",
       "      <td>NaN</td>\n",
       "      <td>NaN</td>\n",
       "    </tr>\n",
       "    <tr>\n",
       "      <th>r5</th>\n",
       "      <td>NaN</td>\n",
       "      <td>40.0</td>\n",
       "      <td>NaN</td>\n",
       "      <td>50.0</td>\n",
       "    </tr>\n",
       "  </tbody>\n",
       "</table>\n",
       "</div>"
      ],
      "text/plain": [
       "     c1    c2   c3    c5\n",
       "r1  1.0   2.0  3.0   NaN\n",
       "r2  4.0   5.0  NaN   NaN\n",
       "r3  6.0   NaN  NaN   NaN\n",
       "r4  NaN  10.0  NaN  20.0\n",
       "r2  NaN  30.0  NaN   NaN\n",
       "r5  NaN  40.0  NaN  50.0"
      ]
     },
     "execution_count": 8,
     "metadata": {},
     "output_type": "execute_result"
    }
   ],
   "source": [
    "dfappend = dfram11.append(dfram12)\n",
    "dfappend"
   ]
  },
  {
   "cell_type": "code",
   "execution_count": 11,
   "id": "8e6f9d0a",
   "metadata": {},
   "outputs": [],
   "source": [
    "dfappend2 = dfram11.append(dfram12, sort = 'True')\n"
   ]
  },
  {
   "cell_type": "code",
   "execution_count": 12,
   "id": "bf81e86b",
   "metadata": {},
   "outputs": [
    {
     "data": {
      "text/html": [
       "<div>\n",
       "<style scoped>\n",
       "    .dataframe tbody tr th:only-of-type {\n",
       "        vertical-align: middle;\n",
       "    }\n",
       "\n",
       "    .dataframe tbody tr th {\n",
       "        vertical-align: top;\n",
       "    }\n",
       "\n",
       "    .dataframe thead th {\n",
       "        text-align: right;\n",
       "    }\n",
       "</style>\n",
       "<table border=\"1\" class=\"dataframe\">\n",
       "  <thead>\n",
       "    <tr style=\"text-align: right;\">\n",
       "      <th></th>\n",
       "      <th>c1</th>\n",
       "      <th>c2</th>\n",
       "      <th>c3</th>\n",
       "      <th>c5</th>\n",
       "    </tr>\n",
       "  </thead>\n",
       "  <tbody>\n",
       "    <tr>\n",
       "      <th>r1</th>\n",
       "      <td>1.0</td>\n",
       "      <td>2.0</td>\n",
       "      <td>3.0</td>\n",
       "      <td>NaN</td>\n",
       "    </tr>\n",
       "    <tr>\n",
       "      <th>r2</th>\n",
       "      <td>4.0</td>\n",
       "      <td>5.0</td>\n",
       "      <td>NaN</td>\n",
       "      <td>NaN</td>\n",
       "    </tr>\n",
       "    <tr>\n",
       "      <th>r3</th>\n",
       "      <td>6.0</td>\n",
       "      <td>NaN</td>\n",
       "      <td>NaN</td>\n",
       "      <td>NaN</td>\n",
       "    </tr>\n",
       "    <tr>\n",
       "      <th>r4</th>\n",
       "      <td>NaN</td>\n",
       "      <td>10.0</td>\n",
       "      <td>NaN</td>\n",
       "      <td>20.0</td>\n",
       "    </tr>\n",
       "    <tr>\n",
       "      <th>r2</th>\n",
       "      <td>NaN</td>\n",
       "      <td>30.0</td>\n",
       "      <td>NaN</td>\n",
       "      <td>NaN</td>\n",
       "    </tr>\n",
       "    <tr>\n",
       "      <th>r5</th>\n",
       "      <td>NaN</td>\n",
       "      <td>40.0</td>\n",
       "      <td>NaN</td>\n",
       "      <td>50.0</td>\n",
       "    </tr>\n",
       "  </tbody>\n",
       "</table>\n",
       "</div>"
      ],
      "text/plain": [
       "     c1    c2   c3    c5\n",
       "r1  1.0   2.0  3.0   NaN\n",
       "r2  4.0   5.0  NaN   NaN\n",
       "r3  6.0   NaN  NaN   NaN\n",
       "r4  NaN  10.0  NaN  20.0\n",
       "r2  NaN  30.0  NaN   NaN\n",
       "r5  NaN  40.0  NaN  50.0"
      ]
     },
     "execution_count": 12,
     "metadata": {},
     "output_type": "execute_result"
    }
   ],
   "source": [
    "dfappend2"
   ]
  },
  {
   "cell_type": "code",
   "execution_count": null,
   "id": "a34897b5",
   "metadata": {},
   "outputs": [],
   "source": []
  },
  {
   "cell_type": "code",
   "execution_count": null,
   "id": "c2441811",
   "metadata": {},
   "outputs": [],
   "source": []
  },
  {
   "cell_type": "code",
   "execution_count": null,
   "id": "7346cf51",
   "metadata": {},
   "outputs": [],
   "source": []
  },
  {
   "cell_type": "code",
   "execution_count": null,
   "id": "e4c6cd73",
   "metadata": {},
   "outputs": [],
   "source": [
    "#DataStructure two types\n",
    "\n",
    "1 Series\n",
    "a=pd.Series()\n",
    "\n",
    "2 DataFrame\n",
    "b=pd.DataFrame()"
   ]
  },
  {
   "cell_type": "code",
   "execution_count": null,
   "id": "9eea4b95",
   "metadata": {},
   "outputs": [],
   "source": [
    "#2.3.6 Attributes of DataFrames\n"
   ]
  },
  {
   "cell_type": "code",
   "execution_count": 1,
   "id": "21b11a22",
   "metadata": {},
   "outputs": [],
   "source": [
    "import pandas as pd"
   ]
  },
  {
   "cell_type": "code",
   "execution_count": 5,
   "id": "2772b520",
   "metadata": {},
   "outputs": [],
   "source": [
    "dictState = {'State': ['UP', 'Delhi', \n",
    "'Rajsthan','Punjab','Himachal Pradesh'],\n",
    "'Capital': ['Lucknow', 'Delhi', 'Jaipur','Chandigadh','Shimla'] }"
   ]
  },
  {
   "cell_type": "code",
   "execution_count": 6,
   "id": "a0c64b91",
   "metadata": {},
   "outputs": [
    {
     "data": {
      "text/plain": [
       "{'State': ['UP', 'Delhi', 'Rajsthan', 'Punjab', 'Himachal Pradesh'],\n",
       " 'Capital': ['Lucknow', 'Delhi', 'Jaipur', 'Chandigadh', 'Shimla']}"
      ]
     },
     "execution_count": 6,
     "metadata": {},
     "output_type": "execute_result"
    }
   ],
   "source": [
    "dictState"
   ]
  },
  {
   "cell_type": "code",
   "execution_count": 7,
   "id": "e873b31a",
   "metadata": {},
   "outputs": [],
   "source": [
    "state = pd.DataFrame(dictState)"
   ]
  },
  {
   "cell_type": "code",
   "execution_count": 8,
   "id": "033df306",
   "metadata": {},
   "outputs": [
    {
     "data": {
      "text/html": [
       "<div>\n",
       "<style scoped>\n",
       "    .dataframe tbody tr th:only-of-type {\n",
       "        vertical-align: middle;\n",
       "    }\n",
       "\n",
       "    .dataframe tbody tr th {\n",
       "        vertical-align: top;\n",
       "    }\n",
       "\n",
       "    .dataframe thead th {\n",
       "        text-align: right;\n",
       "    }\n",
       "</style>\n",
       "<table border=\"1\" class=\"dataframe\">\n",
       "  <thead>\n",
       "    <tr style=\"text-align: right;\">\n",
       "      <th></th>\n",
       "      <th>State</th>\n",
       "      <th>Capital</th>\n",
       "    </tr>\n",
       "  </thead>\n",
       "  <tbody>\n",
       "    <tr>\n",
       "      <th>0</th>\n",
       "      <td>UP</td>\n",
       "      <td>Lucknow</td>\n",
       "    </tr>\n",
       "    <tr>\n",
       "      <th>1</th>\n",
       "      <td>Delhi</td>\n",
       "      <td>Delhi</td>\n",
       "    </tr>\n",
       "    <tr>\n",
       "      <th>2</th>\n",
       "      <td>Rajsthan</td>\n",
       "      <td>Jaipur</td>\n",
       "    </tr>\n",
       "    <tr>\n",
       "      <th>3</th>\n",
       "      <td>Punjab</td>\n",
       "      <td>Chandigadh</td>\n",
       "    </tr>\n",
       "    <tr>\n",
       "      <th>4</th>\n",
       "      <td>Himachal Pradesh</td>\n",
       "      <td>Shimla</td>\n",
       "    </tr>\n",
       "  </tbody>\n",
       "</table>\n",
       "</div>"
      ],
      "text/plain": [
       "              State     Capital\n",
       "0                UP     Lucknow\n",
       "1             Delhi       Delhi\n",
       "2          Rajsthan      Jaipur\n",
       "3            Punjab  Chandigadh\n",
       "4  Himachal Pradesh      Shimla"
      ]
     },
     "execution_count": 8,
     "metadata": {},
     "output_type": "execute_result"
    }
   ],
   "source": [
    "state"
   ]
  },
  {
   "cell_type": "code",
   "execution_count": null,
   "id": "6bcfaf18",
   "metadata": {},
   "outputs": [],
   "source": []
  },
  {
   "cell_type": "code",
   "execution_count": null,
   "id": "73267a9c",
   "metadata": {},
   "outputs": [],
   "source": []
  },
  {
   "cell_type": "code",
   "execution_count": null,
   "id": "10d3aeef",
   "metadata": {},
   "outputs": [],
   "source": []
  },
  {
   "cell_type": "code",
   "execution_count": null,
   "id": "a3fc99e6",
   "metadata": {},
   "outputs": [],
   "source": []
  },
  {
   "cell_type": "code",
   "execution_count": null,
   "id": "4c326cb2",
   "metadata": {},
   "outputs": [],
   "source": []
  }
 ],
 "metadata": {
  "kernelspec": {
   "display_name": "Python 3",
   "language": "python",
   "name": "python3"
  },
  "language_info": {
   "codemirror_mode": {
    "name": "ipython",
    "version": 3
   },
   "file_extension": ".py",
   "mimetype": "text/x-python",
   "name": "python",
   "nbconvert_exporter": "python",
   "pygments_lexer": "ipython3",
   "version": "3.9.4"
  }
 },
 "nbformat": 4,
 "nbformat_minor": 5
}
