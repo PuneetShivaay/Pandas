{
 "cells": [
  {
   "cell_type": "code",
   "execution_count": 1,
   "id": "fea3b528",
   "metadata": {},
   "outputs": [],
   "source": [
    "import numpy as np"
   ]
  },
  {
   "cell_type": "code",
   "execution_count": 2,
   "id": "51abdbc1",
   "metadata": {},
   "outputs": [],
   "source": [
    "import pandas as pd"
   ]
  },
  {
   "cell_type": "code",
   "execution_count": 3,
   "id": "520070b2",
   "metadata": {},
   "outputs": [],
   "source": [
    "#import seaborn as sns"
   ]
  },
  {
   "cell_type": "code",
   "execution_count": 4,
   "id": "fcbb8a61",
   "metadata": {},
   "outputs": [],
   "source": [
    "#import random"
   ]
  },
  {
   "cell_type": "code",
   "execution_count": 5,
   "id": "aba7edfa",
   "metadata": {},
   "outputs": [],
   "source": [
    "df = pd.read_excel(r'D:\\data\\ok\\fupload.xlsx')"
   ]
  },
  {
   "cell_type": "code",
   "execution_count": 6,
   "id": "c7bb0cba",
   "metadata": {},
   "outputs": [
    {
     "data": {
      "text/html": [
       "<div>\n",
       "<style scoped>\n",
       "    .dataframe tbody tr th:only-of-type {\n",
       "        vertical-align: middle;\n",
       "    }\n",
       "\n",
       "    .dataframe tbody tr th {\n",
       "        vertical-align: top;\n",
       "    }\n",
       "\n",
       "    .dataframe thead th {\n",
       "        text-align: right;\n",
       "    }\n",
       "</style>\n",
       "<table border=\"1\" class=\"dataframe\">\n",
       "  <thead>\n",
       "    <tr style=\"text-align: right;\">\n",
       "      <th></th>\n",
       "      <th>Unnamed: 0</th>\n",
       "      <th>Unnamed: 1</th>\n",
       "      <th>Unnamed: 2</th>\n",
       "      <th>Unnamed: 3</th>\n",
       "      <th>Unnamed: 4</th>\n",
       "      <th>Unnamed: 5</th>\n",
       "    </tr>\n",
       "  </thead>\n",
       "  <tbody>\n",
       "    <tr>\n",
       "      <th>0</th>\n",
       "      <td>NaN</td>\n",
       "      <td>NaN</td>\n",
       "      <td>NaN</td>\n",
       "      <td>NaN</td>\n",
       "      <td>NaN</td>\n",
       "      <td>NaN</td>\n",
       "    </tr>\n",
       "    <tr>\n",
       "      <th>1</th>\n",
       "      <td>F-LJ2C</td>\n",
       "      <td>C-AK9N</td>\n",
       "      <td>NaN</td>\n",
       "      <td>NaN</td>\n",
       "      <td>NaN</td>\n",
       "      <td>NaN</td>\n",
       "    </tr>\n",
       "    <tr>\n",
       "      <th>2</th>\n",
       "      <td>F-LJ18</td>\n",
       "      <td>1 $ 2 $ 3</td>\n",
       "      <td>NaN</td>\n",
       "      <td>NaN</td>\n",
       "      <td>NaN</td>\n",
       "      <td>NaN</td>\n",
       "    </tr>\n",
       "    <tr>\n",
       "      <th>3</th>\n",
       "      <td>F-LJ2A</td>\n",
       "      <td>1 $ 2 $ 4</td>\n",
       "      <td>NaN</td>\n",
       "      <td>NaN</td>\n",
       "      <td>NaN</td>\n",
       "      <td>NaN</td>\n",
       "    </tr>\n",
       "    <tr>\n",
       "      <th>4</th>\n",
       "      <td>F-BTJ5</td>\n",
       "      <td>10th foundation $ 10th foundation $ chemistry ...</td>\n",
       "      <td>NaN</td>\n",
       "      <td>NaN</td>\n",
       "      <td>NaN</td>\n",
       "      <td>NaN</td>\n",
       "    </tr>\n",
       "  </tbody>\n",
       "</table>\n",
       "</div>"
      ],
      "text/plain": [
       "  Unnamed: 0                                         Unnamed: 1  Unnamed: 2  \\\n",
       "0        NaN                                                NaN         NaN   \n",
       "1     F-LJ2C                                             C-AK9N         NaN   \n",
       "2     F-LJ18                                          1 $ 2 $ 3         NaN   \n",
       "3     F-LJ2A                                          1 $ 2 $ 4         NaN   \n",
       "4     F-BTJ5  10th foundation $ 10th foundation $ chemistry ...         NaN   \n",
       "\n",
       "   Unnamed: 3  Unnamed: 4  Unnamed: 5  \n",
       "0         NaN         NaN         NaN  \n",
       "1         NaN         NaN         NaN  \n",
       "2         NaN         NaN         NaN  \n",
       "3         NaN         NaN         NaN  \n",
       "4         NaN         NaN         NaN  "
      ]
     },
     "execution_count": 6,
     "metadata": {},
     "output_type": "execute_result"
    }
   ],
   "source": [
    "df.head()"
   ]
  },
  {
   "cell_type": "code",
   "execution_count": 7,
   "id": "c7bbe63f",
   "metadata": {},
   "outputs": [
    {
     "data": {
      "text/html": [
       "<div>\n",
       "<style scoped>\n",
       "    .dataframe tbody tr th:only-of-type {\n",
       "        vertical-align: middle;\n",
       "    }\n",
       "\n",
       "    .dataframe tbody tr th {\n",
       "        vertical-align: top;\n",
       "    }\n",
       "\n",
       "    .dataframe thead th {\n",
       "        text-align: right;\n",
       "    }\n",
       "</style>\n",
       "<table border=\"1\" class=\"dataframe\">\n",
       "  <thead>\n",
       "    <tr style=\"text-align: right;\">\n",
       "      <th></th>\n",
       "      <th>Unnamed: 0</th>\n",
       "      <th>Unnamed: 1</th>\n",
       "      <th>Unnamed: 2</th>\n",
       "      <th>Unnamed: 3</th>\n",
       "      <th>Unnamed: 4</th>\n",
       "      <th>Unnamed: 5</th>\n",
       "    </tr>\n",
       "  </thead>\n",
       "  <tbody>\n",
       "    <tr>\n",
       "      <th>244099</th>\n",
       "      <td>F-JKPQ</td>\n",
       "      <td>अभियांत्रिकी $ जे.ई.ई. मेन $ भौतिक विज्ञान $ स...</td>\n",
       "      <td>NaN</td>\n",
       "      <td>NaN</td>\n",
       "      <td>NaN</td>\n",
       "      <td>NaN</td>\n",
       "    </tr>\n",
       "    <tr>\n",
       "      <th>244100</th>\n",
       "      <td>F-JKPP</td>\n",
       "      <td>अभियांत्रिकी $ जे.ई.ई. मेन $ भौतिक विज्ञान $ स...</td>\n",
       "      <td>NaN</td>\n",
       "      <td>NaN</td>\n",
       "      <td>NaN</td>\n",
       "      <td>NaN</td>\n",
       "    </tr>\n",
       "    <tr>\n",
       "      <th>244101</th>\n",
       "      <td>F-JKPR</td>\n",
       "      <td>अभियांत्रिकी $ जे.ई.ई. मेन $ भौतिक विज्ञान $ स...</td>\n",
       "      <td>NaN</td>\n",
       "      <td>NaN</td>\n",
       "      <td>NaN</td>\n",
       "      <td>NaN</td>\n",
       "    </tr>\n",
       "    <tr>\n",
       "      <th>244102</th>\n",
       "      <td>F-JKPT</td>\n",
       "      <td>अभियांत्रिकी $ जे.ई.ई. मेन $ भौतिक विज्ञान $ स...</td>\n",
       "      <td>NaN</td>\n",
       "      <td>NaN</td>\n",
       "      <td>NaN</td>\n",
       "      <td>NaN</td>\n",
       "    </tr>\n",
       "    <tr>\n",
       "      <th>244103</th>\n",
       "      <td>F-JKPS</td>\n",
       "      <td>अभियांत्रिकी $ जे.ई.ई. मेन $ भौतिक विज्ञान $ स...</td>\n",
       "      <td>NaN</td>\n",
       "      <td>NaN</td>\n",
       "      <td>NaN</td>\n",
       "      <td>NaN</td>\n",
       "    </tr>\n",
       "  </tbody>\n",
       "</table>\n",
       "</div>"
      ],
      "text/plain": [
       "       Unnamed: 0                                         Unnamed: 1  \\\n",
       "244099     F-JKPQ  अभियांत्रिकी $ जे.ई.ई. मेन $ भौतिक विज्ञान $ स...   \n",
       "244100     F-JKPP  अभियांत्रिकी $ जे.ई.ई. मेन $ भौतिक विज्ञान $ स...   \n",
       "244101     F-JKPR  अभियांत्रिकी $ जे.ई.ई. मेन $ भौतिक विज्ञान $ स...   \n",
       "244102     F-JKPT  अभियांत्रिकी $ जे.ई.ई. मेन $ भौतिक विज्ञान $ स...   \n",
       "244103     F-JKPS  अभियांत्रिकी $ जे.ई.ई. मेन $ भौतिक विज्ञान $ स...   \n",
       "\n",
       "        Unnamed: 2  Unnamed: 3  Unnamed: 4  Unnamed: 5  \n",
       "244099         NaN         NaN         NaN         NaN  \n",
       "244100         NaN         NaN         NaN         NaN  \n",
       "244101         NaN         NaN         NaN         NaN  \n",
       "244102         NaN         NaN         NaN         NaN  \n",
       "244103         NaN         NaN         NaN         NaN  "
      ]
     },
     "execution_count": 7,
     "metadata": {},
     "output_type": "execute_result"
    }
   ],
   "source": [
    "df.tail()"
   ]
  },
  {
   "cell_type": "code",
   "execution_count": 8,
   "id": "7ffd2dd2",
   "metadata": {},
   "outputs": [
    {
     "data": {
      "text/plain": [
       "(244104, 6)"
      ]
     },
     "execution_count": 8,
     "metadata": {},
     "output_type": "execute_result"
    }
   ],
   "source": [
    "df.shape"
   ]
  },
  {
   "cell_type": "code",
   "execution_count": 9,
   "id": "8f97609b",
   "metadata": {},
   "outputs": [],
   "source": [
    "df.drop(df.columns[[2,3, 4, 5]], axis = 1, inplace = True)"
   ]
  },
  {
   "cell_type": "code",
   "execution_count": 10,
   "id": "d2a17bee",
   "metadata": {},
   "outputs": [
    {
     "data": {
      "text/plain": [
       "(244104, 2)"
      ]
     },
     "execution_count": 10,
     "metadata": {},
     "output_type": "execute_result"
    }
   ],
   "source": [
    "df.shape"
   ]
  },
  {
   "cell_type": "code",
   "execution_count": 11,
   "id": "4cc2a97b",
   "metadata": {},
   "outputs": [
    {
     "data": {
      "text/html": [
       "<div>\n",
       "<style scoped>\n",
       "    .dataframe tbody tr th:only-of-type {\n",
       "        vertical-align: middle;\n",
       "    }\n",
       "\n",
       "    .dataframe tbody tr th {\n",
       "        vertical-align: top;\n",
       "    }\n",
       "\n",
       "    .dataframe thead th {\n",
       "        text-align: right;\n",
       "    }\n",
       "</style>\n",
       "<table border=\"1\" class=\"dataframe\">\n",
       "  <thead>\n",
       "    <tr style=\"text-align: right;\">\n",
       "      <th></th>\n",
       "      <th>Unnamed: 0</th>\n",
       "      <th>Unnamed: 1</th>\n",
       "    </tr>\n",
       "  </thead>\n",
       "  <tbody>\n",
       "    <tr>\n",
       "      <th>0</th>\n",
       "      <td>NaN</td>\n",
       "      <td>NaN</td>\n",
       "    </tr>\n",
       "    <tr>\n",
       "      <th>1</th>\n",
       "      <td>F-LJ2C</td>\n",
       "      <td>C-AK9N</td>\n",
       "    </tr>\n",
       "    <tr>\n",
       "      <th>2</th>\n",
       "      <td>F-LJ18</td>\n",
       "      <td>1 $ 2 $ 3</td>\n",
       "    </tr>\n",
       "    <tr>\n",
       "      <th>3</th>\n",
       "      <td>F-LJ2A</td>\n",
       "      <td>1 $ 2 $ 4</td>\n",
       "    </tr>\n",
       "    <tr>\n",
       "      <th>4</th>\n",
       "      <td>F-BTJ5</td>\n",
       "      <td>10th foundation $ 10th foundation $ chemistry ...</td>\n",
       "    </tr>\n",
       "  </tbody>\n",
       "</table>\n",
       "</div>"
      ],
      "text/plain": [
       "  Unnamed: 0                                         Unnamed: 1\n",
       "0        NaN                                                NaN\n",
       "1     F-LJ2C                                             C-AK9N\n",
       "2     F-LJ18                                          1 $ 2 $ 3\n",
       "3     F-LJ2A                                          1 $ 2 $ 4\n",
       "4     F-BTJ5  10th foundation $ 10th foundation $ chemistry ..."
      ]
     },
     "execution_count": 11,
     "metadata": {},
     "output_type": "execute_result"
    }
   ],
   "source": [
    "df.head()"
   ]
  },
  {
   "cell_type": "code",
   "execution_count": 56,
   "id": "a3253a19",
   "metadata": {},
   "outputs": [],
   "source": [
    "#df.drop(df.columns[2], axis = 1, inplace = True)"
   ]
  },
  {
   "cell_type": "code",
   "execution_count": 12,
   "id": "c5b4d7a7",
   "metadata": {},
   "outputs": [],
   "source": [
    "#df.head()"
   ]
  },
  {
   "cell_type": "code",
   "execution_count": 13,
   "id": "ddc53b02",
   "metadata": {},
   "outputs": [
    {
     "data": {
      "text/plain": [
       "(244104, 2)"
      ]
     },
     "execution_count": 13,
     "metadata": {},
     "output_type": "execute_result"
    }
   ],
   "source": [
    "df.shape"
   ]
  },
  {
   "cell_type": "code",
   "execution_count": 14,
   "id": "01f7e929",
   "metadata": {},
   "outputs": [
    {
     "name": "stdout",
     "output_type": "stream",
     "text": [
      "1\n",
      "Shape of new dataframes - (0, 2)\n",
      "5001\n",
      "Shape of new dataframes - (5000, 2)\n",
      "10001\n",
      "Shape of new dataframes - (5000, 2)\n",
      "15001\n",
      "Shape of new dataframes - (5000, 2)\n",
      "20001\n",
      "Shape of new dataframes - (5000, 2)\n",
      "25001\n",
      "Shape of new dataframes - (5000, 2)\n",
      "30001\n",
      "Shape of new dataframes - (5000, 2)\n",
      "35001\n",
      "Shape of new dataframes - (5000, 2)\n",
      "40001\n",
      "Shape of new dataframes - (5000, 2)\n",
      "45001\n",
      "Shape of new dataframes - (5000, 2)\n",
      "50001\n",
      "Shape of new dataframes - (5000, 2)\n",
      "55001\n",
      "Shape of new dataframes - (5000, 2)\n",
      "60001\n",
      "Shape of new dataframes - (5000, 2)\n",
      "65001\n",
      "Shape of new dataframes - (5000, 2)\n",
      "70001\n",
      "Shape of new dataframes - (5000, 2)\n",
      "75001\n",
      "Shape of new dataframes - (5000, 2)\n",
      "80001\n",
      "Shape of new dataframes - (5000, 2)\n",
      "85001\n",
      "Shape of new dataframes - (5000, 2)\n",
      "90001\n",
      "Shape of new dataframes - (5000, 2)\n",
      "95001\n",
      "Shape of new dataframes - (5000, 2)\n",
      "100001\n",
      "Shape of new dataframes - (5000, 2)\n",
      "105001\n",
      "Shape of new dataframes - (5000, 2)\n",
      "110001\n",
      "Shape of new dataframes - (5000, 2)\n",
      "115001\n",
      "Shape of new dataframes - (5000, 2)\n",
      "120001\n",
      "Shape of new dataframes - (5000, 2)\n",
      "125001\n",
      "Shape of new dataframes - (5000, 2)\n",
      "130001\n",
      "Shape of new dataframes - (5000, 2)\n",
      "135001\n",
      "Shape of new dataframes - (5000, 2)\n",
      "140001\n",
      "Shape of new dataframes - (5000, 2)\n",
      "145001\n",
      "Shape of new dataframes - (5000, 2)\n",
      "150001\n",
      "Shape of new dataframes - (5000, 2)\n",
      "155001\n",
      "Shape of new dataframes - (5000, 2)\n",
      "160001\n",
      "Shape of new dataframes - (5000, 2)\n",
      "165001\n",
      "Shape of new dataframes - (5000, 2)\n",
      "170001\n",
      "Shape of new dataframes - (5000, 2)\n",
      "175001\n",
      "Shape of new dataframes - (5000, 2)\n",
      "180001\n",
      "Shape of new dataframes - (5000, 2)\n",
      "185001\n",
      "Shape of new dataframes - (5000, 2)\n",
      "190001\n",
      "Shape of new dataframes - (5000, 2)\n",
      "195001\n",
      "Shape of new dataframes - (5000, 2)\n",
      "200001\n",
      "Shape of new dataframes - (5000, 2)\n",
      "205001\n",
      "Shape of new dataframes - (5000, 2)\n",
      "210001\n",
      "Shape of new dataframes - (5000, 2)\n",
      "215001\n",
      "Shape of new dataframes - (5000, 2)\n",
      "220001\n",
      "Shape of new dataframes - (5000, 2)\n",
      "225001\n",
      "Shape of new dataframes - (5000, 2)\n",
      "230001\n",
      "Shape of new dataframes - (5000, 2)\n",
      "235001\n",
      "Shape of new dataframes - (5000, 2)\n",
      "240001\n",
      "Shape of new dataframes - (5000, 2)\n",
      "245001\n",
      "Shape of new dataframes - (4103, 2)\n"
     ]
    }
   ],
   "source": [
    "for i in range (1,250000,5000):\n",
    "    print(i)\n",
    "    file =str(i)\n",
    "    df_1 = df.iloc[i-5000:i,:]\n",
    "    print(\"Shape of new dataframes - {}\".format(df_1.shape))\n",
    "    df_1.to_excel(\"Final\"+file+'fTag.xlsx', header=[\"Ftag\", \"Description\"],index=False)\n",
    "    "
   ]
  },
  {
   "cell_type": "code",
   "execution_count": null,
   "id": "c3a25e09",
   "metadata": {},
   "outputs": [],
   "source": []
  }
 ],
 "metadata": {
  "kernelspec": {
   "display_name": "Python 3",
   "language": "python",
   "name": "python3"
  },
  "language_info": {
   "codemirror_mode": {
    "name": "ipython",
    "version": 3
   },
   "file_extension": ".py",
   "mimetype": "text/x-python",
   "name": "python",
   "nbconvert_exporter": "python",
   "pygments_lexer": "ipython3",
   "version": "3.9.4"
  }
 },
 "nbformat": 4,
 "nbformat_minor": 5
}
